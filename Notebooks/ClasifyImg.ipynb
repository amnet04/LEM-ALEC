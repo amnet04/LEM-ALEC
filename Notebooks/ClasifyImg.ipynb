{
 "cells": [
  {
   "cell_type": "code",
   "execution_count": 78,
   "metadata": {
    "scrolled": true
   },
   "outputs": [
    {
     "name": "stdout",
     "output_type": "stream",
     "text": [
      "Procesando archivo 0 de 1826 | 0.0%\n",
      "/src/static/jpgs/Tomo_2/Laminas/Mixtas/alec_v2_035.jpg\n",
      "/src/static/jpgs/Tomo_2/Laminas/Mixtas/alec_v2_035.jpg es lámina\n",
      "Procesando archivo 1 de 1826 | 0.1%\n",
      "/src/static/jpgs/Tomo_2/Laminas/Mixtas/alec_v2_078.jpg\n",
      "/src/static/jpgs/Tomo_2/Laminas/Mixtas/alec_v2_078.jpg es lámina\n",
      "Procesando archivo 2 de 1826 | 0.1%\n",
      "/src/static/jpgs/Tomo_2/Laminas/Mixtas/alec_v2_100.jpg\n",
      "/src/static/jpgs/Tomo_2/Laminas/Mixtas/alec_v2_100.jpg es lámina\n",
      "Procesando archivo 3 de 1826 | 0.2%\n",
      "/src/static/jpgs/Tomo_2/Laminas/Mixtas/alec_v2_099.jpg\n",
      "Procesando archivo 4 de 1826 | 0.2%\n",
      "/src/static/jpgs/Tomo_2/Laminas/Mixtas/alec_v2_160.jpg\n",
      "/src/static/jpgs/Tomo_2/Laminas/Mixtas/alec_v2_160.jpg es lámina\n",
      "Procesando archivo 5 de 1826 | 0.3%\n",
      "/src/static/jpgs/Tomo_2/Laminas/Mixtas/alec_v2_131.jpg\n",
      "/src/static/jpgs/Tomo_2/Laminas/Mixtas/alec_v2_131.jpg es lámina\n",
      "Procesando archivo 6 de 1826 | 0.3%\n",
      "/src/static/jpgs/Tomo_2/Laminas/Imagenes/alec_v2_234.jpg\n",
      "/src/static/jpgs/Tomo_2/Laminas/Imagenes/alec_v2_234.jpg es lámina\n",
      "Procesando archivo 7 de 1826 | 0.4%\n",
      "/src/static/jpgs/Tomo_2/Laminas/Imagenes/alec_v2_027.jpg\n",
      "/src/static/jpgs/Tomo_2/Laminas/Imagenes/alec_v2_027.jpg es lámina\n",
      "Procesando archivo 8 de 1826 | 0.4%\n",
      "/src/static/jpgs/Tomo_2/Laminas/Imagenes/alec_v2_076.jpg\n",
      "/src/static/jpgs/Tomo_2/Laminas/Imagenes/alec_v2_076.jpg es lámina\n",
      "Procesando archivo 9 de 1826 | 0.5%\n",
      "/src/static/jpgs/Tomo_2/Laminas/Imagenes/alec_v2_070.jpg\n",
      "/src/static/jpgs/Tomo_2/Laminas/Imagenes/alec_v2_070.jpg es lámina\n",
      "Procesando archivo 10 de 1826 | 0.5%\n",
      "/src/static/jpgs/Tomo_2/Laminas/Imagenes/alec_v2_022.jpg\n",
      "/src/static/jpgs/Tomo_2/Laminas/Imagenes/alec_v2_022.jpg es lámina\n",
      "Procesando archivo 11 de 1826 | 0.6%\n",
      "/src/static/jpgs/Tomo_2/Laminas/Imagenes/alec_v2_235.jpg\n",
      "/src/static/jpgs/Tomo_2/Laminas/Imagenes/alec_v2_235.jpg es lámina\n",
      "Procesando archivo 12 de 1826 | 0.7%\n",
      "/src/static/jpgs/Tomo_2/Laminas/Imagenes/alec_v2_166.jpg\n",
      "/src/static/jpgs/Tomo_2/Laminas/Imagenes/alec_v2_166.jpg es lámina\n",
      "Procesando archivo 13 de 1826 | 0.7%\n",
      "/src/static/jpgs/Tomo_2/Laminas/Imagenes/alec_v2_048.jpg\n",
      "/src/static/jpgs/Tomo_2/Laminas/Imagenes/alec_v2_048.jpg es lámina\n",
      "Procesando archivo 14 de 1826 | 0.8%\n",
      "/src/static/jpgs/Tomo_2/Laminas/Imagenes/alec_v2_236.jpg\n",
      "/src/static/jpgs/Tomo_2/Laminas/Imagenes/alec_v2_236.jpg es lámina\n",
      "Procesando archivo 15 de 1826 | 0.8%\n",
      "/src/static/jpgs/Tomo_2/Laminas/Imagenes/alec_v2_133.jpg\n",
      "/src/static/jpgs/Tomo_2/Laminas/Imagenes/alec_v2_133.jpg es lámina\n",
      "Procesando archivo 16 de 1826 | 0.9%\n",
      "/src/static/jpgs/Tomo_2/Laminas/Imagenes/alec_v2_037.jpg\n",
      "Procesando archivo 17 de 1826 | 0.9%\n",
      "/src/static/jpgs/Tomo_2/Laminas/Textos/alec_v2_202.jpg\n",
      "/src/static/jpgs/Tomo_2/Laminas/Textos/alec_v2_202.jpg es lámina\n",
      "Procesando archivo 18 de 1826 | 1.0%\n",
      "/src/static/jpgs/Tomo_2/Laminas/Textos/alec_v2_077.jpg\n",
      "Procesando archivo 19 de 1826 | 1.0%\n",
      "/src/static/jpgs/Tomo_2/Laminas/Textos/alec_v2_079.jpg\n",
      "/src/static/jpgs/Tomo_2/Laminas/Textos/alec_v2_079.jpg es lámina\n",
      "Procesando archivo 20 de 1826 | 1.1%\n",
      "/src/static/jpgs/Tomo_2/Laminas/Textos/alec_v2_218.jpg\n",
      "/src/static/jpgs/Tomo_2/Laminas/Textos/alec_v2_218.jpg es lámina\n",
      "Procesando archivo 21 de 1826 | 1.2%\n",
      "/src/static/jpgs/Tomo_2/Mapas/Indeterminados/alec_v2_216.jpg\n",
      "/src/static/jpgs/Tomo_2/Mapas/Indeterminados/alec_v2_216.jpg es mapa\n",
      "Procesando archivo 22 de 1826 | 1.2%\n",
      "/src/static/jpgs/Tomo_2/Mapas/Indeterminados/alec_v2_215.jpg\n",
      "/src/static/jpgs/Tomo_2/Mapas/Indeterminados/alec_v2_215.jpg es mapa\n",
      "Procesando archivo 23 de 1826 | 1.3%\n",
      "/src/static/jpgs/Tomo_2/Mapas/Indeterminados/alec_v2_020.jpg\n",
      "/src/static/jpgs/Tomo_2/Mapas/Indeterminados/alec_v2_020.jpg es mapa\n",
      "Procesando archivo 24 de 1826 | 1.3%\n"
     ]
    },
    {
     "ename": "KeyboardInterrupt",
     "evalue": "",
     "output_type": "error",
     "traceback": [
      "\u001b[0;31m---------------------------------------------------------------------------\u001b[0m",
      "\u001b[0;31mKeyboardInterrupt\u001b[0m                         Traceback (most recent call last)",
      "\u001b[0;32m<ipython-input-78-f215f4d7a0e4>\u001b[0m in \u001b[0;36m<module>\u001b[0;34m()\u001b[0m\n\u001b[1;32m     19\u001b[0m \u001b[0;32mfor\u001b[0m \u001b[0mcounter\u001b[0m\u001b[0;34m,\u001b[0m \u001b[0mimagen\u001b[0m \u001b[0;32min\u001b[0m \u001b[0menumerate\u001b[0m\u001b[0;34m(\u001b[0m\u001b[0marchivos\u001b[0m\u001b[0;34m)\u001b[0m\u001b[0;34m:\u001b[0m\u001b[0;34m\u001b[0m\u001b[0m\n\u001b[1;32m     20\u001b[0m     \u001b[0mprint\u001b[0m\u001b[0;34m(\u001b[0m\u001b[0;34m\"Procesando archivo {} de {} | {}%\"\u001b[0m\u001b[0;34m.\u001b[0m\u001b[0mformat\u001b[0m\u001b[0;34m(\u001b[0m\u001b[0mcounter\u001b[0m\u001b[0;34m,\u001b[0m\u001b[0mn_archivos\u001b[0m\u001b[0;34m,\u001b[0m\u001b[0mround\u001b[0m\u001b[0;34m(\u001b[0m\u001b[0;34m(\u001b[0m\u001b[0mcounter\u001b[0m\u001b[0;34m*\u001b[0m\u001b[0;36m100\u001b[0m\u001b[0;34m)\u001b[0m\u001b[0;34m/\u001b[0m\u001b[0mn_archivos\u001b[0m\u001b[0;34m,\u001b[0m \u001b[0;36m1\u001b[0m\u001b[0;34m)\u001b[0m\u001b[0;34m)\u001b[0m\u001b[0;34m)\u001b[0m\u001b[0;34m\u001b[0m\u001b[0m\n\u001b[0;32m---> 21\u001b[0;31m     \u001b[0mc\u001b[0m\u001b[0;34m=\u001b[0m\u001b[0msubprocess\u001b[0m\u001b[0;34m.\u001b[0m\u001b[0mrun\u001b[0m\u001b[0;34m(\u001b[0m\u001b[0;34m[\u001b[0m\u001b[0;34m\"tesseract\"\u001b[0m\u001b[0;34m,\u001b[0m \u001b[0;34m\"--tessdata-dir\"\u001b[0m\u001b[0;34m,\u001b[0m \u001b[0;34m\"static/tessdata\"\u001b[0m\u001b[0;34m,\u001b[0m \u001b[0mimagen\u001b[0m\u001b[0;34m,\u001b[0m \u001b[0;34m\"stdout\"\u001b[0m\u001b[0;34m,\u001b[0m \u001b[0;34m\"-l\"\u001b[0m\u001b[0;34m,\u001b[0m \u001b[0;34m\"spa\"\u001b[0m\u001b[0;34m,\u001b[0m \u001b[0;34m\"-psm\"\u001b[0m\u001b[0;34m,\u001b[0m \u001b[0;34m\"3\"\u001b[0m\u001b[0;34m]\u001b[0m\u001b[0;34m,\u001b[0m \u001b[0mstdout\u001b[0m\u001b[0;34m=\u001b[0m\u001b[0msubprocess\u001b[0m\u001b[0;34m.\u001b[0m\u001b[0mPIPE\u001b[0m\u001b[0;34m)\u001b[0m\u001b[0;34m.\u001b[0m\u001b[0mstdout\u001b[0m\u001b[0;34m\u001b[0m\u001b[0m\n\u001b[0m\u001b[1;32m     22\u001b[0m     \u001b[0mc\u001b[0m\u001b[0;34m=\u001b[0m\u001b[0mc\u001b[0m\u001b[0;34m.\u001b[0m\u001b[0mdecode\u001b[0m\u001b[0;34m(\u001b[0m\u001b[0;34m'utf-8'\u001b[0m\u001b[0;34m)\u001b[0m\u001b[0;34m\u001b[0m\u001b[0m\n\u001b[1;32m     23\u001b[0m     \u001b[0mprint\u001b[0m\u001b[0;34m(\u001b[0m\u001b[0mimagen\u001b[0m\u001b[0;34m)\u001b[0m\u001b[0;34m\u001b[0m\u001b[0m\n",
      "\u001b[0;32m/opt/conda/lib/python3.5/subprocess.py\u001b[0m in \u001b[0;36mrun\u001b[0;34m(input, timeout, check, *popenargs, **kwargs)\u001b[0m\n\u001b[1;32m    693\u001b[0m     \u001b[0;32mwith\u001b[0m \u001b[0mPopen\u001b[0m\u001b[0;34m(\u001b[0m\u001b[0;34m*\u001b[0m\u001b[0mpopenargs\u001b[0m\u001b[0;34m,\u001b[0m \u001b[0;34m**\u001b[0m\u001b[0mkwargs\u001b[0m\u001b[0;34m)\u001b[0m \u001b[0;32mas\u001b[0m \u001b[0mprocess\u001b[0m\u001b[0;34m:\u001b[0m\u001b[0;34m\u001b[0m\u001b[0m\n\u001b[1;32m    694\u001b[0m         \u001b[0;32mtry\u001b[0m\u001b[0;34m:\u001b[0m\u001b[0;34m\u001b[0m\u001b[0m\n\u001b[0;32m--> 695\u001b[0;31m             \u001b[0mstdout\u001b[0m\u001b[0;34m,\u001b[0m \u001b[0mstderr\u001b[0m \u001b[0;34m=\u001b[0m \u001b[0mprocess\u001b[0m\u001b[0;34m.\u001b[0m\u001b[0mcommunicate\u001b[0m\u001b[0;34m(\u001b[0m\u001b[0minput\u001b[0m\u001b[0;34m,\u001b[0m \u001b[0mtimeout\u001b[0m\u001b[0;34m=\u001b[0m\u001b[0mtimeout\u001b[0m\u001b[0;34m)\u001b[0m\u001b[0;34m\u001b[0m\u001b[0m\n\u001b[0m\u001b[1;32m    696\u001b[0m         \u001b[0;32mexcept\u001b[0m \u001b[0mTimeoutExpired\u001b[0m\u001b[0;34m:\u001b[0m\u001b[0;34m\u001b[0m\u001b[0m\n\u001b[1;32m    697\u001b[0m             \u001b[0mprocess\u001b[0m\u001b[0;34m.\u001b[0m\u001b[0mkill\u001b[0m\u001b[0;34m(\u001b[0m\u001b[0;34m)\u001b[0m\u001b[0;34m\u001b[0m\u001b[0m\n",
      "\u001b[0;32m/opt/conda/lib/python3.5/subprocess.py\u001b[0m in \u001b[0;36mcommunicate\u001b[0;34m(self, input, timeout)\u001b[0m\n\u001b[1;32m   1057\u001b[0m                 \u001b[0mself\u001b[0m\u001b[0;34m.\u001b[0m\u001b[0m_stdin_write\u001b[0m\u001b[0;34m(\u001b[0m\u001b[0minput\u001b[0m\u001b[0;34m)\u001b[0m\u001b[0;34m\u001b[0m\u001b[0m\n\u001b[1;32m   1058\u001b[0m             \u001b[0;32melif\u001b[0m \u001b[0mself\u001b[0m\u001b[0;34m.\u001b[0m\u001b[0mstdout\u001b[0m\u001b[0;34m:\u001b[0m\u001b[0;34m\u001b[0m\u001b[0m\n\u001b[0;32m-> 1059\u001b[0;31m                 \u001b[0mstdout\u001b[0m \u001b[0;34m=\u001b[0m \u001b[0mself\u001b[0m\u001b[0;34m.\u001b[0m\u001b[0mstdout\u001b[0m\u001b[0;34m.\u001b[0m\u001b[0mread\u001b[0m\u001b[0;34m(\u001b[0m\u001b[0;34m)\u001b[0m\u001b[0;34m\u001b[0m\u001b[0m\n\u001b[0m\u001b[1;32m   1060\u001b[0m                 \u001b[0mself\u001b[0m\u001b[0;34m.\u001b[0m\u001b[0mstdout\u001b[0m\u001b[0;34m.\u001b[0m\u001b[0mclose\u001b[0m\u001b[0;34m(\u001b[0m\u001b[0;34m)\u001b[0m\u001b[0;34m\u001b[0m\u001b[0m\n\u001b[1;32m   1061\u001b[0m             \u001b[0;32melif\u001b[0m \u001b[0mself\u001b[0m\u001b[0;34m.\u001b[0m\u001b[0mstderr\u001b[0m\u001b[0;34m:\u001b[0m\u001b[0;34m\u001b[0m\u001b[0m\n",
      "\u001b[0;31mKeyboardInterrupt\u001b[0m: "
     ]
    }
   ],
   "source": [
    "import os\n",
    "import subprocess\n",
    "from config.settings.base import STATIC_ROOT\n",
    "\n",
    "# Imports the Google Cloud client library\n",
    "from google.cloud import vision\n",
    "from google.cloud.vision import types\n",
    "\n",
    "subdirectorios = [x[0] for x in os.walk(STATIC_ROOT+'/jpgs')]\n",
    "archivos = []\n",
    "\n",
    "for root, dirnames, filenames in os.walk(STATIC_ROOT+'/jpgs'):\n",
    "    for filename in filenames:\n",
    "        if filename.endswith('jpg') or filename.endswith('JPG'):\n",
    "            archivos.append(os.path.join(root, filename))\n",
    "            \n",
    "n_archivos=len(archivos)           \n",
    "\n",
    "for counter, imagen in enumerate(archivos):\n",
    "    print(\"Procesando archivo {} de {} | {}%\".format(counter,n_archivos,round((counter*100)/n_archivos, 1)))\n",
    "    c=subprocess.run([\"tesseract\", \"--tessdata-dir\", \"static/tessdata\", imagen, \"stdout\", \"-l\", \"spa\", \"-psm\", \"3\"], stdout=subprocess.PIPE).stdout\n",
    "    c=c.decode('utf-8')\n",
    "    print(imagen)\n",
    "    if ('mapa ' in c):\n",
    "        print ('{} es mapa'.format(imagen))\n",
    "    elif ('lámina ' in c):\n",
    "        print ('{} es lámina'.format(imagen))\n",
    "\n",
    "\n"
   ]
  },
  {
   "cell_type": "code",
   "execution_count": 7,
   "metadata": {},
   "outputs": [
    {
     "name": "stdout",
     "output_type": "stream",
     "text": [
      "None\n",
      "<_sre.SRE_Match object; span=(41, 48), match='mapa 47'>\n",
      "False\n"
     ]
    }
   ],
   "source": [
    "import subprocess\n",
    "import re\n",
    "\n",
    "\n",
    "c=subprocess.run([\"tesseract\", \"--tessdata-dir\", \"static/tessdata\", \"static/jpgs/Tomo_2/Mapas/Linguisticos/alec_v2_064.jpg\", \"stdout\", \"-l\", \"spa\", \"-psm\", \"3\"], stdout=subprocess.PIPE).stdout\n",
    "\n",
    "dice_lamina = re.search('lámina\\s{1,5}(\\d{1,3})', c.decode('utf-8'))\n",
    "dice_mapa =  re.search('mapa\\s{1,5}(\\d{1,3})', c.decode('utf-8'))\n",
    "print (dice_lamina)\n",
    "print (dice_mapa)\n",
    "print (dice_mapa!=None and dice_lamina!=None)"
   ]
  },
  {
   "cell_type": "code",
   "execution_count": 80,
   "metadata": {},
   "outputs": [
    {
     "name": "stdout",
     "output_type": "stream",
     "text": [
      "12\n",
      "3\n"
     ]
    }
   ],
   "source": [
    "prueba = \" lalalalala Tomo_3\"\n",
    "p = prueba.find('Tomo_')\n",
    "print(p)\n",
    "print(prueba[p+5])"
   ]
  },
  {
   "cell_type": "code",
   "execution_count": 86,
   "metadata": {},
   "outputs": [
    {
     "data": {
      "text/plain": [
       "True"
      ]
     },
     "execution_count": 86,
     "metadata": {},
     "output_type": "execute_result"
    }
   ],
   "source": [
    "'323'.isdigit()"
   ]
  },
  {
   "cell_type": "code",
   "execution_count": 105,
   "metadata": {
    "collapsed": true
   },
   "outputs": [],
   "source": [
    "import re\n",
    "\n",
    "prueba = \" lalalalala mapa 345\"\n",
    "m = re.search('mgapa\\s{1,5}(\\d{1,3})', prueba)\n",
    "m\n"
   ]
  },
  {
   "cell_type": "code",
   "execution_count": 1,
   "metadata": {},
   "outputs": [
    {
     "name": "stdout",
     "output_type": "stream",
     "text": [
      "Procesando archivo 0 de 1826 | 0.0%\n",
      "/src/static/jpgs/Tomo_2/Laminas/Mixtas/alec_v2_035.jpg es LAM, del tomo_2. Nuevo nombre: lamina_023.jpg\n",
      "Procesando archivo 1 de 1826 | 0.1%\n",
      "/src/static/jpgs/Tomo_2/Laminas/Mixtas/alec_v2_078.jpg es LAM, del tomo_2. Nuevo nombre: lamina_066.jpg\n",
      "Procesando archivo 2 de 1826 | 0.1%\n",
      "/src/static/jpgs/Tomo_2/Laminas/Mixtas/alec_v2_100.jpg es LAM, del tomo_2. Nuevo nombre: lamina_088.jpg\n",
      "Procesando archivo 3 de 1826 | 0.2%\n",
      "/src/static/jpgs/Tomo_2/Laminas/Mixtas/alec_v2_099.jpg es OTR, del tomo_2. Nuevo nombre: otro_alec_v2_099.jpg\n",
      "Procesando archivo 4 de 1826 | 0.2%\n"
     ]
    },
    {
     "ename": "KeyboardInterrupt",
     "evalue": "",
     "output_type": "error",
     "traceback": [
      "\u001b[0;31m---------------------------------------------------------------------------\u001b[0m",
      "\u001b[0;31mKeyboardInterrupt\u001b[0m                         Traceback (most recent call last)",
      "\u001b[0;32m<ipython-input-1-bf6d06a8e8d9>\u001b[0m in \u001b[0;36m<module>\u001b[0;34m()\u001b[0m\n\u001b[1;32m     26\u001b[0m \u001b[0;32mfor\u001b[0m \u001b[0mcounter\u001b[0m\u001b[0;34m,\u001b[0m \u001b[0mimagen\u001b[0m \u001b[0;32min\u001b[0m \u001b[0menumerate\u001b[0m\u001b[0;34m(\u001b[0m\u001b[0marchivos\u001b[0m\u001b[0;34m)\u001b[0m\u001b[0;34m:\u001b[0m\u001b[0;34m\u001b[0m\u001b[0m\n\u001b[1;32m     27\u001b[0m     \u001b[0mprint\u001b[0m\u001b[0;34m(\u001b[0m\u001b[0;34m\"Procesando archivo {} de {} | {}%\"\u001b[0m\u001b[0;34m.\u001b[0m\u001b[0mformat\u001b[0m\u001b[0;34m(\u001b[0m\u001b[0mcounter\u001b[0m\u001b[0;34m,\u001b[0m\u001b[0mn_archivos\u001b[0m\u001b[0;34m,\u001b[0m\u001b[0mround\u001b[0m\u001b[0;34m(\u001b[0m\u001b[0;34m(\u001b[0m\u001b[0mcounter\u001b[0m\u001b[0;34m*\u001b[0m\u001b[0;36m100\u001b[0m\u001b[0;34m)\u001b[0m\u001b[0;34m/\u001b[0m\u001b[0mn_archivos\u001b[0m\u001b[0;34m,\u001b[0m \u001b[0;36m1\u001b[0m\u001b[0;34m)\u001b[0m\u001b[0;34m)\u001b[0m\u001b[0;34m)\u001b[0m\u001b[0;34m\u001b[0m\u001b[0m\n\u001b[0;32m---> 28\u001b[0;31m     \u001b[0mocr\u001b[0m \u001b[0;34m=\u001b[0m \u001b[0msubprocess\u001b[0m\u001b[0;34m.\u001b[0m\u001b[0mrun\u001b[0m\u001b[0;34m(\u001b[0m\u001b[0;34m[\u001b[0m\u001b[0;34m\"tesseract\"\u001b[0m\u001b[0;34m,\u001b[0m \u001b[0;34m\"--tessdata-dir\"\u001b[0m\u001b[0;34m,\u001b[0m \u001b[0;34m\"static/tessdata\"\u001b[0m\u001b[0;34m,\u001b[0m \u001b[0mimagen\u001b[0m\u001b[0;34m,\u001b[0m \u001b[0;34m\"stdout\"\u001b[0m\u001b[0;34m,\u001b[0m \u001b[0;34m\"-l\"\u001b[0m\u001b[0;34m,\u001b[0m \u001b[0;34m\"spa\"\u001b[0m\u001b[0;34m,\u001b[0m \u001b[0;34m\"-psm\"\u001b[0m\u001b[0;34m,\u001b[0m \u001b[0;34m\"3\"\u001b[0m\u001b[0;34m]\u001b[0m\u001b[0;34m,\u001b[0m \u001b[0mstdout\u001b[0m\u001b[0;34m=\u001b[0m\u001b[0msubprocess\u001b[0m\u001b[0;34m.\u001b[0m\u001b[0mPIPE\u001b[0m\u001b[0;34m)\u001b[0m\u001b[0;34m.\u001b[0m\u001b[0mstdout\u001b[0m\u001b[0;34m\u001b[0m\u001b[0m\n\u001b[0m\u001b[1;32m     29\u001b[0m     \u001b[0mocr\u001b[0m \u001b[0;34m=\u001b[0m \u001b[0mocr\u001b[0m\u001b[0;34m.\u001b[0m\u001b[0mdecode\u001b[0m\u001b[0;34m(\u001b[0m\u001b[0;34m'utf-8'\u001b[0m\u001b[0;34m)\u001b[0m\u001b[0;34m\u001b[0m\u001b[0m\n\u001b[1;32m     30\u001b[0m     \u001b[0moriginal_file\u001b[0m \u001b[0;34m=\u001b[0m \u001b[0mimagen\u001b[0m\u001b[0;34m.\u001b[0m\u001b[0mreplace\u001b[0m\u001b[0;34m(\u001b[0m\u001b[0;34m\"/src/\"\u001b[0m\u001b[0;34m,\u001b[0m\u001b[0;34m\"\"\u001b[0m\u001b[0;34m)\u001b[0m\u001b[0;34m\u001b[0m\u001b[0m\n",
      "\u001b[0;32m/opt/conda/lib/python3.5/subprocess.py\u001b[0m in \u001b[0;36mrun\u001b[0;34m(input, timeout, check, *popenargs, **kwargs)\u001b[0m\n\u001b[1;32m    693\u001b[0m     \u001b[0;32mwith\u001b[0m \u001b[0mPopen\u001b[0m\u001b[0;34m(\u001b[0m\u001b[0;34m*\u001b[0m\u001b[0mpopenargs\u001b[0m\u001b[0;34m,\u001b[0m \u001b[0;34m**\u001b[0m\u001b[0mkwargs\u001b[0m\u001b[0;34m)\u001b[0m \u001b[0;32mas\u001b[0m \u001b[0mprocess\u001b[0m\u001b[0;34m:\u001b[0m\u001b[0;34m\u001b[0m\u001b[0m\n\u001b[1;32m    694\u001b[0m         \u001b[0;32mtry\u001b[0m\u001b[0;34m:\u001b[0m\u001b[0;34m\u001b[0m\u001b[0m\n\u001b[0;32m--> 695\u001b[0;31m             \u001b[0mstdout\u001b[0m\u001b[0;34m,\u001b[0m \u001b[0mstderr\u001b[0m \u001b[0;34m=\u001b[0m \u001b[0mprocess\u001b[0m\u001b[0;34m.\u001b[0m\u001b[0mcommunicate\u001b[0m\u001b[0;34m(\u001b[0m\u001b[0minput\u001b[0m\u001b[0;34m,\u001b[0m \u001b[0mtimeout\u001b[0m\u001b[0;34m=\u001b[0m\u001b[0mtimeout\u001b[0m\u001b[0;34m)\u001b[0m\u001b[0;34m\u001b[0m\u001b[0m\n\u001b[0m\u001b[1;32m    696\u001b[0m         \u001b[0;32mexcept\u001b[0m \u001b[0mTimeoutExpired\u001b[0m\u001b[0;34m:\u001b[0m\u001b[0;34m\u001b[0m\u001b[0m\n\u001b[1;32m    697\u001b[0m             \u001b[0mprocess\u001b[0m\u001b[0;34m.\u001b[0m\u001b[0mkill\u001b[0m\u001b[0;34m(\u001b[0m\u001b[0;34m)\u001b[0m\u001b[0;34m\u001b[0m\u001b[0m\n",
      "\u001b[0;32m/opt/conda/lib/python3.5/subprocess.py\u001b[0m in \u001b[0;36mcommunicate\u001b[0;34m(self, input, timeout)\u001b[0m\n\u001b[1;32m   1057\u001b[0m                 \u001b[0mself\u001b[0m\u001b[0;34m.\u001b[0m\u001b[0m_stdin_write\u001b[0m\u001b[0;34m(\u001b[0m\u001b[0minput\u001b[0m\u001b[0;34m)\u001b[0m\u001b[0;34m\u001b[0m\u001b[0m\n\u001b[1;32m   1058\u001b[0m             \u001b[0;32melif\u001b[0m \u001b[0mself\u001b[0m\u001b[0;34m.\u001b[0m\u001b[0mstdout\u001b[0m\u001b[0;34m:\u001b[0m\u001b[0;34m\u001b[0m\u001b[0m\n\u001b[0;32m-> 1059\u001b[0;31m                 \u001b[0mstdout\u001b[0m \u001b[0;34m=\u001b[0m \u001b[0mself\u001b[0m\u001b[0;34m.\u001b[0m\u001b[0mstdout\u001b[0m\u001b[0;34m.\u001b[0m\u001b[0mread\u001b[0m\u001b[0;34m(\u001b[0m\u001b[0;34m)\u001b[0m\u001b[0;34m\u001b[0m\u001b[0m\n\u001b[0m\u001b[1;32m   1060\u001b[0m                 \u001b[0mself\u001b[0m\u001b[0;34m.\u001b[0m\u001b[0mstdout\u001b[0m\u001b[0;34m.\u001b[0m\u001b[0mclose\u001b[0m\u001b[0;34m(\u001b[0m\u001b[0;34m)\u001b[0m\u001b[0;34m\u001b[0m\u001b[0m\n\u001b[1;32m   1061\u001b[0m             \u001b[0;32melif\u001b[0m \u001b[0mself\u001b[0m\u001b[0;34m.\u001b[0m\u001b[0mstderr\u001b[0m\u001b[0;34m:\u001b[0m\u001b[0;34m\u001b[0m\u001b[0m\n",
      "\u001b[0;31mKeyboardInterrupt\u001b[0m: "
     ]
    }
   ],
   "source": [
    "import os\n",
    "import re\n",
    "import subprocess\n",
    "from config.settings.base import STATIC_ROOT\n",
    "\n",
    "\n",
    "subdirectorios = [x[0] for x in os.walk(STATIC_ROOT+'/jpgs')]\n",
    "archivos = []\n",
    "\n",
    "def regularizar_numero(numero):\n",
    "    if len(numero)== 1:\n",
    "        new_number = \"00{}\".format(numero)\n",
    "    elif len(numero)==2:\n",
    "        new_number = \"0{}\".format(numero)\n",
    "    elif len(numero)==3:\n",
    "        new_number = \"{}\".format(numero)\n",
    "    return  new_number\n",
    "\n",
    "for root, dirnames, filenames in os.walk(STATIC_ROOT+'/jpgs'):\n",
    "    for filename in filenames:\n",
    "        if filename.endswith('jpg') or filename.endswith('JPG'):\n",
    "            archivos.append(os.path.join(root, filename))\n",
    "\n",
    "n_archivos=len(archivos) \n",
    "\n",
    "for counter, imagen in enumerate(archivos):\n",
    "    print(\"Procesando archivo {} de {} | {}%\".format(counter,n_archivos,round((counter*100)/n_archivos, 1)))\n",
    "    ocr = subprocess.run([\"tesseract\", \"--tessdata-dir\", \"static/tessdata\", imagen, \"stdout\", \"-l\", \"spa\", \"-psm\", \"3\"], stdout=subprocess.PIPE).stdout\n",
    "    ocr = ocr.decode('utf-8')\n",
    "    original_file = imagen.replace(\"/src/\",\"\")\n",
    "    original_name = re.search('\\/(\\w{5,13}\\.jpg)',original_file)\n",
    "    tomo_position = original_file.find('Tomo_')+5\n",
    "    tomo = original_file[tomo_position]\n",
    "    dice_mapa =  re.search('mapa\\s{1,5}(\\d{1,3})', ocr)\n",
    "    dice_lamina = re.search('lámina\\s{1,5}(\\d{1,3})', ocr)\n",
    "    if (dice_mapa  and dice_lamina):\n",
    "        tipo = \"MAP\"\n",
    "        volume_folder = \"tomo_{}\".format(tomo)\n",
    "        type_folder = \"mapas\"\n",
    "        map_number = regularizar_numero(dice_mapa.group(1))\n",
    "        sheet_number = regularizar_numero(dice_lamina.group(1))\n",
    "        nuevo_nombre_archivo = \"mapa_{}_lamina_{}.jpg\".format(map_number,sheet_number)\n",
    "    elif ('lámina ' in ocr):\n",
    "        tipo = \"LAM\"\n",
    "        volume_folder = \"tomo_{}\".format(tomo)\n",
    "        type_folder = \"laminas\"\n",
    "        sheet_number = regularizar_numero(dice_lamina.group(1))\n",
    "        nuevo_nombre_archivo = \"lamina_{}.jpg\".format(sheet_number)\n",
    "    else:\n",
    "        tipo = \"OTR\"\n",
    "        volume_folder = \"tomo_{}\".format(tomo)\n",
    "        type_folder = \"otros\"\n",
    "        nuevo_nombre_archivo = \"otro_{}\".format(original_name.group(1))\n",
    "    print(\"{} es {}, del {}. Nuevo nombre: {}\".format(imagen, tipo, volume_folder, nuevo_nombre_archivo))"
   ]
  },
  {
   "cell_type": "code",
   "execution_count": null,
   "metadata": {
    "collapsed": true
   },
   "outputs": [],
   "source": [
    "import numpy as np\n",
    "import time\n",
    "\n",
    "from numba import vectorize, cuda\n",
    "\n",
    "@vectorize(['float32(float32, float32)'], target='cuda')\n",
    "def VectorAdd(a, b):\n",
    "    return a + b\n",
    "\n",
    "def main():\n",
    "    N = 32000000\n",
    "\n",
    "    A = np.ones(N, dtype=np.float32)\n",
    "    B = np.ones(N, dtype=np.float32)\n",
    "\n",
    "    start = time.time()\n",
    "    C = VectorAdd(A, B)\n",
    "    vector_add_time = time.time() - start\n",
    "\n",
    "    print (\"C[:5] = \" + str(C[:5]))\n",
    "    print (\"C[-5:] = \" + str(C[-5:]))\n",
    "\n",
    "    print (\"VectorAdd took for % seconds\" % vector_add_time)\n",
    "\n",
    "if __name__=='__main__':\n",
    "    main()"
   ]
  },
  {
   "cell_type": "code",
   "execution_count": null,
   "metadata": {
    "collapsed": true
   },
   "outputs": [],
   "source": []
  }
 ],
 "metadata": {
  "anaconda-cloud": {},
  "kernelspec": {
   "display_name": "Python [default]",
   "language": "python",
   "name": "python3"
  },
  "language_info": {
   "codemirror_mode": {
    "name": "ipython",
    "version": 3
   },
   "file_extension": ".py",
   "mimetype": "text/x-python",
   "name": "python",
   "nbconvert_exporter": "python",
   "pygments_lexer": "ipython3",
   "version": "3.5.2"
  }
 },
 "nbformat": 4,
 "nbformat_minor": 1
}
