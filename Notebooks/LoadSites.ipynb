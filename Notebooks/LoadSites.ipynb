{
 "cells": [
  {
   "cell_type": "code",
   "execution_count": 3,
   "metadata": {
    "collapsed": true
   },
   "outputs": [],
   "source": [
    "import csv\n",
    "from alec.models import Localidad\n",
    "\n",
    "\n",
    "def manejar_fecha(fecha=0):\n",
    "    print(fecha)\n",
    "    if (fecha is None or fecha==0 or fecha=='0'):\n",
    "        fecha_inicio = None\n",
    "        fecha_final = None\n",
    "    if (type(fecha) == str):\n",
    "        if (fecha.find('-')==-1 and  fecha!='0'):\n",
    "            print('lllllllllllllll->{}'.format(fecha))\n",
    "            dia, mes, anio = fecha.split(\"/\")\n",
    "            fecha_inicio ='{}-{}-{}'.format(anio,mes,dia)\n",
    "            fecha_final = None\n",
    "    if (type(fecha) == str):    \n",
    "        if (fecha.find('-')!=-1):\n",
    "            fecha_1, fecha_2 = fecha.split(\"-\")\n",
    "            dia1, mes1, anio1 = fecha_1.split(\"/\")\n",
    "            dia2, mes2, anio2 = fecha_2.split(\"/\")\n",
    "            fecha_inicio ='{}-{}-{}'.format(anio1,mes1,dia1)\n",
    "            fecha_final ='{}-{}-{}'.format(anio2,mes2,dia2)\n",
    "    resultado = {\"fecha_inicio\":fecha_inicio,\"fecha_final\":fecha_final}\n",
    "    return (resultado)\n",
    "    \n",
    "with open('static/geo/localidades.csv') as file:\n",
    "    reader = csv.DictReader(file)\n",
    "    for row in reader:      \n",
    "        localidad = Localidad(\n",
    "            id =  row[\"Idlocalidad\"],\n",
    "            idalec = row[\"localidadalec\"],\n",
    "            nombre = row[\"Nombre\"],\n",
    "            latitud = float(row[\"Latitud\"].replace(\",\",\".\")),\n",
    "            longitud = float(row[\"Longitud\"].replace(\",\",\".\")),\n",
    "            departamento = row[\"Departamento\"],\n",
    "            fundacion = row[\"año fundación\"],\n",
    "            asnv = row[\"asnv\"],\n",
    "            actividades_economicas = row[\"actividadeseconomicas\"],\n",
    "            vias_de_acceso = row[\"viasdeacceso\"],\n",
    "            observaciones = row[\"observaciones\"],\n",
    "            sitio_web = row[\"páginaweb\"],\n",
    "        )\n",
    "        localidad.save()"
   ]
  },
  {
   "cell_type": "code",
   "execution_count": null,
   "metadata": {
    "collapsed": true
   },
   "outputs": [],
   "source": []
  },
  {
   "cell_type": "code",
   "execution_count": null,
   "metadata": {
    "collapsed": true
   },
   "outputs": [],
   "source": []
  }
 ],
 "metadata": {
  "anaconda-cloud": {},
  "kernelspec": {
   "display_name": "Django Shell-Plus",
   "language": "python",
   "name": "django_extensions"
  },
  "language_info": {
   "codemirror_mode": {
    "name": "ipython",
    "version": 3
   },
   "file_extension": ".py",
   "mimetype": "text/x-python",
   "name": "python",
   "nbconvert_exporter": "python",
   "pygments_lexer": "ipython3",
   "version": "3.5.2"
  }
 },
 "nbformat": 4,
 "nbformat_minor": 1
}
