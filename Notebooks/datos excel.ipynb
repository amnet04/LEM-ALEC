{
 "cells": [
  {
   "cell_type": "markdown",
   "metadata": {},
   "source": [
    "# Cuaderno de pruebas con archivos de excel\n",
    "\n",
    "## 1. Carga de librerías"
   ]
  },
  {
   "cell_type": "code",
   "execution_count": 1,
   "metadata": {},
   "outputs": [],
   "source": [
    "import csv\n",
    "import pandas\n",
    "import numpy\n",
    "from os import walk, path\n",
    "from openpyxl import load_workbook"
   ]
  },
  {
   "cell_type": "markdown",
   "metadata": {},
   "source": [
    "## 2. Función para recopilar todos los archivos de excel en un directorio y sus subdirectorios"
   ]
  },
  {
   "cell_type": "code",
   "execution_count": 2,
   "metadata": {},
   "outputs": [],
   "source": [
    "def listado_archivos(directorio):\n",
    "    archivos = []\n",
    "    direct = directorio\n",
    "    count = 0\n",
    "    for root, dirnames, filenames in walk(directorio):\n",
    "        for filename in filenames:\n",
    "            if filename.endswith('xlsx'):\n",
    "                archivo = path.join(root, filename)\n",
    "                wb=load_workbook(filename=archivo)\n",
    "                if (wb['Mapa'] and wb['Variantes'] and wb['VariantesCartografiadas'] and wb['VariantesNoCartografiadas']):\n",
    "                    archivos.append(path.join(root, filename))\n",
    "                    print (\"\\r Recolectando archivos de excel: {} identificados\".format(count), end=\"\")\n",
    "                    count += 1\n",
    "    return(archivos)\n",
    "                \n",
    "#directorio = \"/src/static/170526_Tomo_III_normalizado\"\n",
    "#print(listado_archivos(directorio));"
   ]
  },
  {
   "cell_type": "markdown",
   "metadata": {},
   "source": [
    "## 3. Configurar tupla de  localidades y columnas posibles"
   ]
  },
  {
   "cell_type": "code",
   "execution_count": 3,
   "metadata": {},
   "outputs": [],
   "source": [
    "localidades = ['Ch01_', 'Ch10_', 'Ch30_', 'Ch03_', 'Ch04_', 'Ch05_', 'Ch06_', 'Ch60_', 'V_02_', 'V_20_', 'V_21_', 'V_03_', 'V_04_', 'V_04a', 'V_40_', 'V_41_', 'V_42_', 'V_05_', 'V_06_', 'V_60_', 'V_61_', 'V_62_', 'V_63_', 'Ca01_', 'Ca10_', 'Ca02_', 'Ca20_', 'Ca21_', 'Ca03_', 'Ca30_', 'Ca04_', 'Ca40_', 'N_01_', 'N_03_', 'N_30_', 'N_31_', 'N_04_', 'N_40_', 'N_06_', 'P_01_', 'Co01_', 'Co10_', 'Co11_', 'Co02_', 'Co03_', 'Co30_', 'Co04_', 'Co40_', 'A_01_', 'A_02_', 'A_20_', 'A_03_', 'A_30_', 'A_31_', 'A_32_', 'A_04_', 'A_40_', 'A_41_', 'A_42_', 'A_43_', 'A_44_', 'A_05_', 'A_50_', 'A_51_', 'A_52_', 'A_53_', 'A_54_', 'A_55_', 'A_56_', 'A_06_', 'A_60_', 'A_60a', 'A_61_', 'A_62_', 'A_63_', 'R_01_', 'R_03_', 'R_06_', 'C_01_', 'C_02_', 'C_03_', 'C_04_', 'C_05_', 'Q_01_', 'T_02_', 'T_20_', 'T_21_', 'T_22_', 'T_22a', 'T_23_', 'T_03_', 'T_04_', 'T_40_', 'T_41_', 'T_42_', 'T_43_', 'T_44_', 'T_05_', 'T_50_', 'T_06_', 'T_60_', 'H_02_', 'H_03_', 'H_30_', 'H_31_', 'H_04_', 'H_05_', 'H_50_', 'Cq02_', 'Cq03_', 'Su01_', 'Su10_', 'Su02_', 'Su03_', 'Su04_', 'Su06_', 'At02_', 'At03_', 'At06_', 'B_01_', 'B_10_', 'B_11_', 'B_12_', 'B_13_', 'B_14_', 'B_15_', 'B_16_', 'B_04_', 'B_40_', 'B_06_', 'S_01_', 'S_10_', 'S_11_', 'S_02_', 'S_03_', 'S_04_', 'S_40_', 'S_41_', 'S_41a', 'S_42_', 'S_42a', 'S_43_', 'S_44_', 'S_44a', 'S_45_', 'S_45a', 'S_05_', 'S_50_', 'S_50a', 'S_51_', 'S_52_', 'S_06_', 'S_60_', 'S_60a', 'S_61_', 'Bo02_', 'Bo03_', 'Bo30_', 'Bo31_', 'Bo32_', 'Bo32a', 'Bo04_', 'Bo40_', 'Bo41_', 'Bo42_', 'Bo43_', 'Bo43a', 'Bo44_', 'Bo45_', 'Bo46_', 'Bo47_', 'Bo05_', 'Bo05a', 'Bo50_', 'Bo50a', 'Bo50b', 'Bo06_', 'Bo60_', 'Cu01_', 'Cu10_', 'Cu02_', 'Cu20_', 'Cu21_', 'Cu03_', 'Cu30_', 'Cu30a', 'Cu30b', 'Cu30c', 'Cu31_', 'Cu32_', 'Cu33_', 'Cu34_', 'Cu34a', 'Cu34b', 'Cu34c', 'Cu34d', 'Cu04_', 'Cu40_', 'Cu41_', 'Cu42_', 'Cu43_', 'Cu44_', 'Cu45_', 'Cu05_', 'Cu50_', 'Cu51_', 'Cu52_', 'Cu06_', 'Me01_', 'Me10_', 'Me02_', 'M_01_', 'M_02_', 'M_20_ ', 'M_21_', 'M_03_', 'M_30_', 'M_31_', 'M_04_', 'G_03_', 'G_30_', 'G_31_', 'G_04_', 'G_40_', 'G_05_', 'Ce01_', 'Ce02_', 'Ce20_', 'Ce03_', 'Ce30_', 'Ce04_', 'Ce05_', 'Ce50_', 'NS01_', 'NS10_', 'NS03_', 'NS30_', 'NS31_', 'NS32_', 'NS33_', 'NS34_', 'NS34a', 'NS04_', 'NS40_', 'NS40a', 'NS41_', 'Ns41a', 'NS05_', 'NS06_', 'NS60_', 'NS61_', 'NS62_', 'NS63_', 'Ar02_', 'Ar03_', 'Cs01_', 'Cs03_', 'Cs30_', 'Cs31_', 'Cs05_', 'Cs06_', 'Am01_']\n",
    "for idx, localidad in enumerate(localidades):\n",
    "    localidades[idx]=localidad.replace(\" \", \"\")\n",
    "\n",
    "localidades.sort()"
   ]
  },
  {
   "cell_type": "markdown",
   "metadata": {},
   "source": [
    "### 3.1 Función para detectar columnas  con variantes:"
   ]
  },
  {
   "cell_type": "code",
   "execution_count": 4,
   "metadata": {},
   "outputs": [],
   "source": [
    "def col_var(archivo, hoja):\n",
    "    wb = load_workbook(filename=archivo)\n",
    "    hoja = wb[hoja]\n",
    "    columnas_posibles = list('BCDEFGHIJKLMNOPQRSTUVWXYZ')\n",
    "    columnas = ''\n",
    "    dtype = {}\n",
    "    for columna in list(columnas_posibles):\n",
    "        if hoja[columna+'1'].value[0] in ['v','V'] and columnas == '':\n",
    "            columnas=columna\n",
    "        elif hoja[columna+'1'].value[0] in ['v','V']:\n",
    "            columnas+=','+columna\n",
    "        else:\n",
    "            break\n",
    "    return columnas\n",
    "\n",
    "#directorio = '/src/static/170526_Tomo_III_normalizado'\n",
    "#archivo = directorio+\"/T3L001L001FAM/T3L001M001FAM_CORTEJAR_PRETENDER.xlsx\"\n",
    "#hoja = 'VariantesCartografiadas'\n",
    "#print(col_var(archivo,hoja))"
   ]
  },
  {
   "cell_type": "markdown",
   "metadata": {},
   "source": [
    "## 4. Configurar las funciones para extraer los datos\n",
    "\n",
    "### 4.1. Función para extraer el nombre de la lámina"
   ]
  },
  {
   "cell_type": "code",
   "execution_count": 5,
   "metadata": {},
   "outputs": [],
   "source": [
    "def lamina(archivo):\n",
    "    lamina=pandas.read_excel(archivo, sheetname=\"Mapa\", parse_cols = \"I\").iloc[0].NombreLamina\n",
    "    return lamina  \n",
    "\n",
    "#directorio = '/src/static/170526_Tomo_III_normalizado'\n",
    "#archivo = directorio+\"/T3L001L001FAM/T3L001M001FAM_CORTEJAR_PRETENDER.xlsx\"\n",
    "#lamina(archivo)"
   ]
  },
  {
   "cell_type": "markdown",
   "metadata": {},
   "source": [
    "### 4.2 Función para extraer las variantes y su id"
   ]
  },
  {
   "cell_type": "code",
   "execution_count": 6,
   "metadata": {},
   "outputs": [],
   "source": [
    "def variantes(archivo):\n",
    "    variantes = pandas.read_excel(archivo, sheetname=\"Variantes\", parse_cols = \"A,B\", index_col=0)\n",
    "    if variantes.empty:\n",
    "        return None\n",
    "    else:\n",
    "        return variantes.to_dict()['Variante']\n",
    "        \n",
    "#directorio = '/src/static/170526_Tomo_III_normalizado'\n",
    "#archivo = directorio+\"/T3L034L041FAM/T3L035FAM_VARIACIONES_CANCIONES_CUNA_(I).xlsx\"\n",
    "#v=variantes(archivo)\n",
    "#v"
   ]
  },
  {
   "cell_type": "markdown",
   "metadata": {},
   "source": [
    "### 4.4 Función para extraer todas las variantes con localización"
   ]
  },
  {
   "cell_type": "code",
   "execution_count": 7,
   "metadata": {},
   "outputs": [],
   "source": [
    "def variantes_localizadas(archivo):\n",
    "    if variantes(archivo):\n",
    "        carto = [\"VariantesCartografiadas\", \"VariantesNoCartografiadas\"]\n",
    "        varis = []\n",
    "        for x in carto:\n",
    "            col_vars = col_var(archivo, x)\n",
    "            varis.append(pandas.read_excel(archivo, sheetname=x, parse_cols=\"A,\"+col_vars,index_col=0))\n",
    "        for var in varis:\n",
    "            var.index=var.index.str.strip()\n",
    "        varis = pandas.concat(varis, axis = 1)\n",
    "        return varis\n",
    "    else:\n",
    "        return pandas.DataFrame({'A' : []})\n",
    "\n",
    "#directorio = '/src/static/170526_Tomo_III_normalizado'\n",
    "#archivo = directorio+\"/T3L001L001FAM/T3L001M001FAM_CORTEJAR_PRETENDER.xlsx\"\n",
    "#archivo = directorio+\"/T3L034L041FAM/T3L035FAM_VARIACIONES_CANCIONES_CUNA_(I).xlsx\"\n",
    "#archivo = directorio+\"/T3L027L031FAM/T3L027M027FAM_ENFERMEDADES_DEL_RECIÉN_NACIDO_(I).xlsx\"\n",
    "#v = variantes_localizadas(archivo)\n",
    "#print(v.loc['M_01_'])"
   ]
  },
  {
   "cell_type": "markdown",
   "metadata": {},
   "source": [
    "### 4.5 Función para optener el vector binario de cada variante por localidad"
   ]
  },
  {
   "cell_type": "code",
   "execution_count": 8,
   "metadata": {},
   "outputs": [],
   "source": [
    "def get_var_vector(var, var_loc, localidad):\n",
    "    if not var_loc.empty:\n",
    "    # Extraigo solo la localidad que me interesa\n",
    "        var_loc = list(var_loc.loc[localidad])\n",
    "        vect = {}\n",
    "        for key in var:\n",
    "            if key in var_loc:\n",
    "                vect[var[key]] = 1\n",
    "            else:\n",
    "                vect[var[key]] = 0\n",
    "        vect = pandas.DataFrame.from_dict(vect, orient='index').sort_index()\n",
    "        return vect\n",
    "    else:\n",
    "        return pandas.DataFrame({'A' : []})\n",
    "    \n",
    "#directorio = '/src/static/170526_Tomo_III_normalizado'\n",
    "#archivo = directorio+\"/T3L001L001FAM/T3L001M001FAM_CORTEJAR_PRETENDER.xlsx\"\n",
    "#archivo = directorio+\"/T3L034L041FAM/T3L035FAM_VARIACIONES_CANCIONES_CUNA_(I).xlsx\"\n",
    "#var_loc = variantes_localizadas(archivo)\n",
    "#var = variantes(archivo)\n",
    "#vector = get_var_vector(var, var_loc,'Ch60_')\n",
    "#vector"
   ]
  },
  {
   "cell_type": "markdown",
   "metadata": {},
   "source": [
    "###  4.6 Función para extraer los vectores de todo un mapa"
   ]
  },
  {
   "cell_type": "code",
   "execution_count": 9,
   "metadata": {},
   "outputs": [],
   "source": [
    "def get_map_vector(archivo):\n",
    "    lam = lamina(archivo)\n",
    "    var_loc = variantes_localizadas(archivo)\n",
    "    var = variantes(archivo)\n",
    "    map_vector = []\n",
    "    if var:\n",
    "        for localidad in localidades:\n",
    "            loc_vect = get_var_vector(var, var_loc, localidad)\n",
    "            if not loc_vect.empty:\n",
    "                loc_vect.columns = [localidad]\n",
    "                map_vector.append(loc_vect)\n",
    "        if map_vector:\n",
    "                map_vector = pandas.concat(map_vector, axis=1)\n",
    "                map_vector.insert(loc=0,column='mapa',value=lam)\n",
    "        else:\n",
    "            map_vector = pandas.DataFrame({'A' : []})\n",
    "        return (map_vector)\n",
    "    else:\n",
    "        return pandas.DataFrame({'A' : []})\n",
    "\n",
    "#destino = \"/src/media/supermatrix.csv\"\n",
    "#directorio = '/src/static/170526_Tomo_III_normalizado'\n",
    "#archivo = directorio+\"/T3L034L041FAM/T3L035FAM_VARIACIONES_CANCIONES_CUNA_(I).xlsx\"\n",
    "#archivo = directorio+\"/T3L001L001FAM/T3L001M001FAM_CORTEJAR_PRETENDER.xlsx\"\n",
    "#vector = get_map_vector(archivo)\n",
    "#vector\n",
    "        "
   ]
  },
  {
   "cell_type": "markdown",
   "metadata": {},
   "source": [
    "## 5 Copiar los datos de todos los mapas a un solo csv"
   ]
  },
  {
   "cell_type": "code",
   "execution_count": null,
   "metadata": {},
   "outputs": [
    {
     "name": "stdout",
     "output_type": "stream",
     "text": [
      " Recolectando archivos de excel: 202 identificados\n",
      "\n",
      " Procesando archivo 195 de 203 : 96%  /src/static/170526_Tomo_III_normalizado/T3L128L129I/T3L128M120I_UBICACION_IGLESIA.xlsxsx.xlsxxxICIÓN.xlsxOS.xlsxI.xlsxx.xlsxx"
     ]
    }
   ],
   "source": [
    "def supermatrixcsv(directorio, destino):\n",
    "    archivos = listado_archivos(directorio)\n",
    "    cantidad_archivos = len(archivos)\n",
    "    archivo = archivos[0]\n",
    "    print(\"\\n\")\n",
    "    with open(destino, 'w') as file:\n",
    "        vector_localizaciones = pandas.read_csv(\"/src/static/geo/localidades.csv\", usecols=['Idlocalidad','Latitud','Longitud'], index_col=0).sort_index()\n",
    "        vector_localizaciones.index=vector_localizaciones.index.str.strip()\n",
    "        vector_localizaciones = vector_localizaciones.transpose()\n",
    "        vector_localizaciones.index.name='Variantes'\n",
    "        vector_localizaciones.insert(loc=0,column='mapa',value=\"####XXX####\")\n",
    "        vector_localizaciones.to_csv(file, sep=\"\\t\", na_rep=\"XXX\", encoding='utf-8', quotechar =\"'\")\n",
    "    with open(destino, 'a') as file:\n",
    "        for x in range (0,cantidad_archivos):\n",
    "            porcentaje = ((x+1)*100)//(cantidad_archivos)\n",
    "            print (\"\\r Procesando archivo {} de {} : {}%  {}\".format(x+1,cantidad_archivos,porcentaje,archivos[x] ), end=\"\")\n",
    "            vector = get_map_vector(archivos[x])\n",
    "            if not vector.empty:\n",
    "                vector.to_csv(file, header=False,sep=\"\\t\", na_rep=\"XXX\", encoding='utf-8', quotechar =\"'\")\n",
    "    print(\"\\nTerminado\")\n",
    "        \n",
    "destino = \"/src/media/supermatrix.csv\"\n",
    "directorio = '/src/static/170526_Tomo_III_normalizado'\n",
    "archivo = directorio+\"/T3L001L001FAM/T3L001M001FAM_CORTEJAR_PRETENDER.xlsx\"\n",
    "vector = get_map_vector(archivo)\n",
    "supermatrixcsv(directorio, destino)\n"
   ]
  },
  {
   "cell_type": "code",
   "execution_count": null,
   "metadata": {
    "collapsed": true
   },
   "outputs": [],
   "source": []
  }
 ],
 "metadata": {
  "anaconda-cloud": {},
  "kernelspec": {
   "display_name": "Python [conda root]",
   "language": "python",
   "name": "conda-root-py"
  },
  "language_info": {
   "codemirror_mode": {
    "name": "ipython",
    "version": 3
   },
   "file_extension": ".py",
   "mimetype": "text/x-python",
   "name": "python",
   "nbconvert_exporter": "python",
   "pygments_lexer": "ipython3",
   "version": "3.5.2"
  }
 },
 "nbformat": 4,
 "nbformat_minor": 1
}
