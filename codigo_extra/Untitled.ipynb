{
 "cells": [
  {
   "cell_type": "code",
   "execution_count": 204,
   "metadata": {},
   "outputs": [],
   "source": [
    "import numpy as np\n",
    "#import random\n",
    "import codecs\n",
    "import math\n",
    "import pandas\n",
    "from scipy.spatial import Voronoi#, voronoi_plot_2d\n",
    "from data import DATA\n",
    "from mpl_toolkits.basemap import Basemap\n",
    "import matplotlib.pyplot as plt\n",
    "from scipy.spatial import Voronoi"
   ]
  },
  {
   "cell_type": "code",
   "execution_count": 205,
   "metadata": {},
   "outputs": [],
   "source": [
    "origen_varientes = \"../media/supermatrix.csv\"\n",
    "origen_HSIC= \"../media/hsic_samp500.csv\"\n",
    "\n",
    "variantes = pandas.read_csv(origen_varientes, index_col=[0,1], sep=\"\\t\")\n",
    "hsic = pandas.read_csv(origen_HSIC, index_col=[0,1], sep=\"\\t\")\n",
    "hsic.loc['Latitud']=0\n",
    "hsic.loc['Longitud']=0\n",
    "\n",
    "hsic_valid = hsic.loc[(hsic['HSIC'] > 0.009)]\n",
    "hsic_valid = hsic_valid.loc[(hsic_valid['PValue'] < 0.05)]\n",
    "\n"
   ]
  },
  {
   "cell_type": "code",
   "execution_count": 206,
   "metadata": {},
   "outputs": [
    {
     "data": {
      "text/plain": [
       "array([('Latitud', '####XXX####'), ('Longitud', '####XXX####'),\n",
       "       ('pizarra', 'T3L193M184I_TABLERO'), ...,\n",
       "       ('vieja', 'T3L007M007FAM_ESPOSA_II'),\n",
       "       ('víbora', 'T3L007M007FAM_ESPOSA_II'),\n",
       "       ('ñervito', 'T3L007M007FAM_ESPOSA_II')], dtype=object)"
      ]
     },
     "execution_count": 206,
     "metadata": {},
     "output_type": "execute_result"
    }
   ],
   "source": [
    "valid_variants = variantes.ix[list(hsic_valid.index.values)]\n",
    "variantes.index.values"
   ]
  },
  {
   "cell_type": "code",
   "execution_count": 207,
   "metadata": {},
   "outputs": [],
   "source": [
    "coordinates = variantes.iloc[0:2,:].transpose()\n",
    "points = np.array(coordinates)\n",
    "vor = Voronoi(points)\n",
    "\n",
    "coordinates.columns=['Latitud', 'Longitud']"
   ]
  },
  {
   "cell_type": "code",
   "execution_count": 208,
   "metadata": {},
   "outputs": [],
   "source": [
    "plt.figure(figsize=(80,40))\n",
    "\n",
    "# setup Lambert Conformal basemap.\n",
    "m = Basemap(width=1500000,height=2000000,projection='lcc',\n",
    "            resolution='h',lat_1=15.,lat_2=25,lat_0=3.9,lon_0=-73.)\n",
    "# draw coastlines.\n",
    "m.drawcoastlines(linewidth=4)\n",
    "m.drawcountries(linewidth=4)\n",
    "m.drawmapboundary(fill_color='aquamarine')\n",
    "m.fillcontinents(color=\"ivory\",lake_color=\"aquamarine\")\n",
    "#m.drawstates()\n",
    "#m.shadedrelief()\n",
    "#m.etopo()\n",
    "\n",
    "# draws locations\n",
    "for index, row in coordinates.iterrows():\n",
    "    m.scatter(row['Longitud'],row['Latitud'],s=50,marker='o',color='k',latlon=True)\n",
    "    m.tissot(row['Longitud'],row['Latitud'],radius_deg=10/200,npts=20)\n",
    "    x,y=m(row['Longitud'],row['Latitud'])\n",
    "    plt.text(x,y,index,fontsize=7)"
   ]
  },
  {
   "cell_type": "code",
   "execution_count": 209,
   "metadata": {},
   "outputs": [],
   "source": [
    "def weights(c1,c2):\n",
    "    absolute_difference=abs(valid_variants.iloc[:,c1]-valid_variants.iloc[:,c2]).sum()\n",
    "    return absolute_difference"
   ]
  },
  {
   "cell_type": "code",
   "execution_count": 210,
   "metadata": {},
   "outputs": [
    {
     "name": "stdout",
     "output_type": "stream",
     "text": [
      "0.0 59.0\n"
     ]
    }
   ],
   "source": [
    "min_weight=99999999999999999999999999\n",
    "max_weight=0.0000000000000000000000000000000001\n",
    "\n",
    "for i in range(len(vor.ridge_vertices)):\n",
    "    vertex1,vertex2=vor.ridge_vertices[i]  # points in the map defining the line\n",
    "    city1,city2=vor.ridge_points[i]\n",
    "    line_weight=weights(city1,city2)\n",
    "    if line_weight>max_weight:\n",
    "        max_weight=line_weight\n",
    "    if line_weight<min_weight:\n",
    "        min_weight=line_weight\n",
    "\n",
    "print(min_weight,max_weight)"
   ]
  },
  {
   "cell_type": "code",
   "execution_count": 211,
   "metadata": {},
   "outputs": [],
   "source": [
    "for i in range(len(vor.ridge_vertices)):\n",
    "    vertex1,vertex2=vor.ridge_vertices[i]  # points in the map defining the line\n",
    "    city1,city2=vor.ridge_points[i]  # indexes of the cities separated by the line   \n",
    "    #gets the line's weight\n",
    "    line_weight=(weights(city1,city2)-min_weight)/(max_weight-min_weight)\n",
    "    if vertex1==-1 or vertex2==-1:\n",
    "        continue\n",
    "    latitude1,longitude1=vor.vertices[vertex1]\n",
    "    latitude2,longitude2=vor.vertices[vertex2]\n",
    "    x,y=m([longitude1,longitude2],[latitude1,latitude2])    \n",
    "    m.plot(x,y,color=(line_weight,1-line_weight, 1-line_weight),linewidth=10*(line_weight))\n",
    "\n",
    "#plt.show()\n",
    "plt.savefig('../static/Localizaciones_ALECT3_Colombia_Voroni.png', format='png', dpi=200)"
   ]
  },
  {
   "cell_type": "code",
   "execution_count": null,
   "metadata": {},
   "outputs": [],
   "source": []
  }
 ],
 "metadata": {
  "anaconda-cloud": {},
  "kernelspec": {
   "display_name": "Python [conda env:conda]",
   "language": "python",
   "name": "conda-env-conda-py"
  },
  "language_info": {
   "codemirror_mode": {
    "name": "ipython",
    "version": 3
   },
   "file_extension": ".py",
   "mimetype": "text/x-python",
   "name": "python",
   "nbconvert_exporter": "python",
   "pygments_lexer": "ipython3",
   "version": "3.5.2"
  }
 },
 "nbformat": 4,
 "nbformat_minor": 1
}
