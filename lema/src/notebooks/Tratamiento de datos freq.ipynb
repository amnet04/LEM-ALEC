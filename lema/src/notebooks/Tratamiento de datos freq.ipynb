{
 "cells": [
  {
   "cell_type": "markdown",
   "metadata": {
    "nbpresent": {
     "id": "148a1103-9694-4013-8740-5f3f36a4d462"
    }
   },
   "source": [
    "# Tratamiento de datos"
   ]
  },
  {
   "cell_type": "code",
   "execution_count": 1,
   "metadata": {
    "nbpresent": {
     "id": "1b7afed7-8c22-4fdd-a092-3764d25fa864"
    }
   },
   "outputs": [],
   "source": [
    "import numpy as np\n",
    "import pandas\n",
    "import re\n",
    "from data import DATA\n",
    "from hsic import HSIC\n",
    "import time\n",
    "import matplotlib.pyplot as plt"
   ]
  },
  {
   "cell_type": "markdown",
   "metadata": {
    "nbpresent": {
     "id": "20510e08-856d-410a-91f2-94ceddd7c812"
    }
   },
   "source": [
    "## 1. Definición de constantes"
   ]
  },
  {
   "cell_type": "code",
   "execution_count": 2,
   "metadata": {
    "nbpresent": {
     "id": "2557d9b7-9ea8-4050-96ce-fb2e4ac04c09"
    }
   },
   "outputs": [],
   "source": [
    "TOT_FREQ_DATA_ORI = \"../static/ctc/TWITTER_COLOMBIA_FREQ.csv\"\n",
    "TOT_FREQ_DATA_DES = \"../static/ctc/TWITTER_COLOMBIA_FREQ_CLEAN.csv\"\n",
    "REL_FREQ_DATA_DES = \"../static/ctc/TWITTER_COLOMBIA_RELATIVE_FREQ_CLEAN.csv\"\n",
    "RANK_DATA_DES = \"../static/ctc/TWITTER_COLOMBIA_RANK.csv\"\n",
    "NOR_RANK_DES = \"../static/ctc/TWITTER_COLOMBIA_RANK_NORM.csv\"\n",
    "\n",
    "# Datos geográficos\n",
    "data = pandas.DataFrame(list(DATA), columns= ['Longitud', 'Latitud', 'radio', 'ciudad', 'dep'])\n",
    "data = data.drop(['radio','dep'], axis=1)\n",
    "data = data.sort_values(by='ciudad')\n",
    "data = data.set_index('ciudad')"
   ]
  },
  {
   "cell_type": "markdown",
   "metadata": {
    "nbpresent": {
     "id": "c33604fa-c9ec-4ffe-acb5-ba8a6c740f63"
    }
   },
   "source": [
    "## 2. Funciones de tratamiento de archivos"
   ]
  },
  {
   "cell_type": "code",
   "execution_count": 3,
   "metadata": {
    "nbpresent": {
     "id": "4f500f28-7484-474b-8a7b-552ab4b0db2f"
    }
   },
   "outputs": [],
   "source": [
    "def ValidWordsFrame(file):\n",
    "    general_words_data = pandas.read_csv(\n",
    "        file, \n",
    "        encoding='utf-8', \n",
    "        usecols=[*range(0,6)],\n",
    "        skiprows=[*range(1,6)],\n",
    "        dtype={'total':np.int32,'lower':np.int32, 'titled':np.int32, 'upper':np.int32, 'other':np.int32},\n",
    "        index_col = ['#CITY#']\n",
    "    )\n",
    "    #filtrar las palabras con una sola aparición, porque dan hsic malos\n",
    "    general_words_data=general_words_data.loc[general_words_data['total']>1]\n",
    "    \n",
    "    #filtrar acronimos\n",
    "    general_words_data=general_words_data.loc[general_words_data['lower']>general_words_data['upper']]\n",
    "    \n",
    "    #filtrar posibles nombres propios\n",
    "    general_words_data=general_words_data.loc[general_words_data['lower']>general_words_data['titled']]\n",
    "    \n",
    "    #obtener palabras válidas hasta aquí\n",
    "    valid_words = pandas.DataFrame(general_words_data.index)\n",
    "    \n",
    "    \n",
    "    # Filtrar otras cosas\n",
    "    \n",
    "    # Filtro de posibles links\n",
    "    http_pat = re.compile(r'.*http.*',flags=re.IGNORECASE)\n",
    "    valid_words['http'] = valid_words['#CITY#'].str.contains(http_pat)\n",
    "    valid_words=valid_words.loc[valid_words['http']==False]\n",
    "\n",
    "    # Filtro risas posibles links\n",
    "    risa_pat = re.compile(r'.*(ja){1,}.*',flags=re.IGNORECASE)\n",
    "    valid_words['risa'] = valid_words['#CITY#'].str.contains(risa_pat)\n",
    "    valid_words=valid_words.loc[valid_words['risa']==False]\n",
    "    \n",
    "    # Filtro pics al final, porque no se que es pero me late que es algo de twiter, una foto posiblemente\n",
    "    pic_pat = re.compile(r'.*pic$',flags=re.IGNORECASE)\n",
    "    valid_words['pic'] = valid_words['#CITY#'].str.contains(pic_pat)\n",
    "    valid_words=valid_words.loc[valid_words['pic']==False]\n",
    "    \n",
    "    # Filtro palabras con mucha repetición de letras (más de tres letras iguales repetidas)\n",
    "    multiple_path = re.compile(r'(\\w)\\1{2,}',flags=re.IGNORECASE)\n",
    "    valid_words['multiple'] = valid_words['#CITY#'].str.contains(multiple_path)\n",
    "    valid_words=valid_words.loc[valid_words['multiple']==False]\n",
    "    \n",
    "    # Filtro palabras con numeros\n",
    "    numeros_path = re.compile(r'.*(\\d).*',flags=re.IGNORECASE)\n",
    "    valid_words['numeros'] = valid_words['#CITY#'].str.contains(numeros_path)\n",
    "    valid_words=valid_words.loc[valid_words['numeros']==False]\n",
    "    valid_words=valid_words.set_index('#CITY#')\n",
    "    \n",
    "    \n",
    "    return(valid_words.index)"
   ]
  },
  {
   "cell_type": "code",
   "execution_count": 4,
   "metadata": {
    "nbpresent": {
     "id": "d541107b-edce-4a3b-bd25-3fc1b631d096"
    }
   },
   "outputs": [],
   "source": [
    "def ValidCitiesFrame(file, minwords=50000):\n",
    "    # Datos de las ciudades filtradas\n",
    "    general_cities_data =pandas.read_csv(\n",
    "        file, \n",
    "        encoding='utf-8',\n",
    "        nrows=5,\n",
    "        index_col = ['#CITY#']\n",
    "    )\n",
    "    general_cities_data.drop(labels=['total','lower', 'titled', 'upper','other'], axis=1, inplace=True)\n",
    "    general_cities_data.drop(labels=['#COUNTRY#','#TWEETS#', '#USERS#'], axis=0, inplace=True)\n",
    "    general_cities_data=general_cities_data.transpose()\n",
    "    general_cities_data['#TOTAL_WORDS#']=general_cities_data['#TOTAL_WORDS#'].apply(pandas.to_numeric)\n",
    "    # Agrego datos geográficos\n",
    "    localidades_filtradas = pandas.concat([data, general_cities_data], axis=1)\n",
    "    #Elimino los corpus pequeños\n",
    "    localidades_filtradas = localidades_filtradas.loc[localidades_filtradas['#TOTAL_WORDS#']>=minwords]\n",
    "    return (localidades_filtradas)"
   ]
  },
  {
   "cell_type": "code",
   "execution_count": 5,
   "metadata": {},
   "outputs": [
    {
     "data": {
      "text/plain": [
       "array([[  1.805187  , -75.89711628],\n",
       "       [  8.3060079 , -73.64677   ],\n",
       "       [ 10.0347577 , -73.2546581 ],\n",
       "       [ 11.1606614 , -72.5962945 ],\n",
       "       [  5.6564209 , -75.8884088 ],\n",
       "       [  7.866667  , -76.666667  ],\n",
       "       [  7.084512  , -70.755366  ],\n",
       "       [  4.533889  , -75.681111  ],\n",
       "       [ 10.7919858 , -74.932762  ],\n",
       "       [  6.4389568 , -75.4043117 ],\n",
       "       [  5.9340873 , -73.6212408 ],\n",
       "       [  7.065278  , -73.854722  ],\n",
       "       [ 10.9838942 , -74.853037  ],\n",
       "       [  5.2009242 , -75.8736495 ],\n",
       "       [  4.649178  , -74.062827  ],\n",
       "       [  4.3386473 , -76.1955393 ],\n",
       "       [  9.973157  , -73.8974372 ],\n",
       "       [  7.125393  , -73.119804  ],\n",
       "       [  3.880099  , -77.031164  ],\n",
       "       [  3.8991844 , -76.3346675 ],\n",
       "       [  3.437222  , -76.5225    ],\n",
       "       [ 10.3799647 , -74.8995316 ],\n",
       "       [  7.7553751 , -76.6642077 ],\n",
       "       [ 10.399722  , -75.514444  ],\n",
       "       [  7.9786912 , -75.2153806 ],\n",
       "       [  8.884229  , -75.8093401 ],\n",
       "       [  3.7187411 , -75.4991709 ],\n",
       "       [  7.6651207 , -76.6862667 ],\n",
       "       [  9.2547864 , -73.8213709 ],\n",
       "       [  9.1011699 , -75.4137808 ],\n",
       "       [  9.3627967 , -73.6076467 ],\n",
       "       [ 11.0090981 , -74.2632826 ],\n",
       "       [  8.8792575 , -75.6388846 ],\n",
       "       [  6.0459575 , -75.9118734 ],\n",
       "       [  3.1744314 , -76.2649396 ],\n",
       "       [  3.7967441 , -75.1993901 ],\n",
       "       [  4.2666371 , -73.5050382 ],\n",
       "       [  9.2011039 , -73.5601187 ],\n",
       "       [  4.4036867 , -73.9508615 ],\n",
       "       [  7.893907  , -72.507821  ],\n",
       "       [  3.656684  , -76.687861  ],\n",
       "       [  5.8998651 , -74.7389946 ],\n",
       "       [  5.8260758 , -73.0652311 ],\n",
       "       [  9.0035494 , -73.9914166 ],\n",
       "       [  9.7176884 , -75.140831  ],\n",
       "       [  3.6835497 , -76.328125  ],\n",
       "       [ 10.1489975 , -73.9690092 ],\n",
       "       [  4.1696345 , -75.0464079 ],\n",
       "       [  1.614382  , -75.606229  ],\n",
       "       [  3.3213559 , -76.2441371 ],\n",
       "       [ 10.8854638 , -72.8583989 ],\n",
       "       [  5.1533699 , -75.0520954 ],\n",
       "       [ 10.5172202 , -74.20739   ],\n",
       "       [  4.3387893 , -74.419436  ],\n",
       "       [  2.1954458 , -75.6450205 ],\n",
       "       [  2.3852397 , -75.5505891 ],\n",
       "       [  4.3113937 , -74.8281867 ],\n",
       "       [  3.5449155 , -73.740387  ],\n",
       "       [  5.070557  , -74.6188535 ],\n",
       "       [  9.1445475 , -74.2350703 ],\n",
       "       [  4.032191  , -74.980824  ],\n",
       "       [  6.2311481 , -75.1625242 ],\n",
       "       [ 11.0683225 , -72.7682152 ],\n",
       "       [  5.203455  , -74.7379515 ],\n",
       "       [  4.438889  , -75.232222  ],\n",
       "       [  0.8262647 , -77.672631  ],\n",
       "       [  1.9323997 , -76.2214782 ],\n",
       "       [  3.2613152 , -76.559418  ],\n",
       "       [  6.0276744 , -75.4491492 ],\n",
       "       [  5.4727939 , -74.7030895 ],\n",
       "       [  9.5620185 , -73.3455597 ],\n",
       "       [  9.6191    , -73.6033467 ],\n",
       "       [  4.631098  , -74.4725681 ],\n",
       "       [  2.3889013 , -75.909296  ],\n",
       "       [  4.534151  , -76.1088807 ],\n",
       "       [ -4.203122  , -69.9600086 ],\n",
       "       [  4.9209986 , -75.0806821 ],\n",
       "       [  9.2425334 , -75.8367556 ],\n",
       "       [ 10.6099248 , -75.1498982 ],\n",
       "       [  9.242024  , -74.754671  ],\n",
       "       [ 10.2326969 , -75.1954292 ],\n",
       "       [ 11.3802126 , -72.277558  ],\n",
       "       [ 11.7728195 , -72.4677156 ],\n",
       "       [  5.06889   , -75.517383  ],\n",
       "       [  9.9838168 , -75.3206911 ],\n",
       "       [  5.2275724 , -75.042673  ],\n",
       "       [  6.25184   , -75.563591  ],\n",
       "       [  4.2039013 , -74.6989285 ],\n",
       "       [  1.1523619 , -76.6598312 ],\n",
       "       [  9.2435989 , -74.4420486 ],\n",
       "       [  5.8760294 , -73.5911427 ],\n",
       "       [  7.9768446 , -75.4347616 ],\n",
       "       [  8.747984  , -75.881428  ],\n",
       "       [  8.2740391 , -73.8759428 ],\n",
       "       [  6.7038792 , -72.7386677 ],\n",
       "       [  2.927299  , -75.281885  ],\n",
       "       [  9.8017036 , -74.4008518 ],\n",
       "       [  8.2521334 , -73.3883261 ],\n",
       "       [  3.9357947 , -75.2287909 ],\n",
       "       [  5.1320245 , -74.1674484 ],\n",
       "       [  5.7798129 , -73.1322771 ],\n",
       "       [  7.3720218 , -72.6678461 ],\n",
       "       [  1.213611  , -77.281111  ],\n",
       "       [  5.3832461 , -75.1663995 ],\n",
       "       [  4.813333  , -75.696111  ],\n",
       "       [  2.2667544 , -75.8126241 ],\n",
       "       [  1.8530659 , -76.0900245 ],\n",
       "       [ 10.4631193 , -74.6256499 ],\n",
       "       [  8.4021991 , -75.6009661 ],\n",
       "       [  9.7923964 , -74.8039926 ],\n",
       "       [ 10.6417925 , -74.7620573 ],\n",
       "       [  2.4574702 , -76.6349535 ],\n",
       "       [  5.9743349 , -74.6017665 ],\n",
       "       [  4.0914393 , -72.991024  ],\n",
       "       [  8.363201  , -72.407722  ],\n",
       "       [  3.2206332 , -76.4330176 ],\n",
       "       [  3.859786  , -74.9349085 ],\n",
       "       [  5.694722  , -76.661111  ],\n",
       "       [  6.1448793 , -75.392638  ],\n",
       "       [  5.4243217 , -75.7121107 ],\n",
       "       [  5.5383111 , -73.6365421 ],\n",
       "       [ 11.544444  , -72.907222  ],\n",
       "       [ 10.6275712 , -74.938687  ],\n",
       "       [  8.3060079 , -75.4817705 ],\n",
       "       [  1.879898  , -76.269634  ],\n",
       "       [ 12.584722  , -81.700556  ],\n",
       "       [  9.146764  , -75.5177933 ],\n",
       "       [  6.5526854 , -73.153674  ],\n",
       "       [  2.5693923 , -72.6564245 ],\n",
       "       [  6.8785431 , -73.4195401 ],\n",
       "       [  5.8742703 , -75.5751973 ],\n",
       "       [  6.5594782 , -75.8319916 ],\n",
       "       [ 11.240791  , -74.19904   ],\n",
       "       [  3.0123232 , -76.5020861 ],\n",
       "       [  4.1577207 , -76.1688409 ],\n",
       "       [  1.2025354 , -76.9300012 ],\n",
       "       [  9.304722  , -75.397778  ],\n",
       "       [  5.7238722 , -72.9546861 ],\n",
       "       [  5.1039503 , -73.8074081 ],\n",
       "       [  3.0673612 , -75.1424936 ],\n",
       "       [  8.1716126 , -76.0798661 ],\n",
       "       [  1.9738239 , -75.9413027 ],\n",
       "       [  4.4604866 , -74.6534336 ],\n",
       "       [  7.3053636 , -72.4886835 ],\n",
       "       [  2.9563124 , -76.2791762 ],\n",
       "       [  4.084656  , -76.19536   ],\n",
       "       [  1.7875194 , -78.7998601 ],\n",
       "       [  5.535278  , -73.367778  ],\n",
       "       [  8.0855821 , -76.748706  ],\n",
       "       [  5.3120664 , -73.8357746 ],\n",
       "       [  8.256829  , -76.1654891 ],\n",
       "       [ 10.46314   , -73.253224  ],\n",
       "       [  5.3671599 , -73.5235414 ],\n",
       "       [  5.6365208 , -73.5358348 ],\n",
       "       [ 10.6048369 , -72.9890753 ],\n",
       "       [  4.142002  , -73.626645  ],\n",
       "       [  5.0140825 , -74.4877586 ],\n",
       "       [  5.337752  , -72.395859  ],\n",
       "       [  4.3937277 , -76.0726414 ],\n",
       "       [  5.0215184 , -74.006701  ]])"
      ]
     },
     "execution_count": 5,
     "metadata": {},
     "output_type": "execute_result"
    }
   ],
   "source": [
    "GeoValidCities=ValidCitiesFrame(TOT_FREQ_DATA_ORI).drop(['#TOTAL_WORDS#','#VOCABULARY_SIZE#'], axis=1).sort_index()\n",
    "GeoValidCities=GeoValidCities.as_matrix()\n",
    "GeoValidCities"
   ]
  },
  {
   "cell_type": "code",
   "execution_count": 6,
   "metadata": {
    "nbpresent": {
     "id": "214369fe-6540-4a50-bb84-dc595214ace6"
    }
   },
   "outputs": [],
   "source": [
    "def FiltredWordLocationFrame(file,destino):\n",
    "    ValidWords=ValidWordsFrame(file)\n",
    "    ValidCities=ValidCitiesFrame(file)\n",
    "    lenvalidcities=len(ValidCities)\n",
    "    \n",
    "    file_word_freq = pandas.read_csv(\n",
    "        file, \n",
    "        encoding='utf-8',\n",
    "        chunksize=10000, \n",
    "        index_col=0,\n",
    "        skiprows=[1,3,5],\n",
    "        sep =\",\", \n",
    "        quotechar='\"'\n",
    "    )\n",
    "    \n",
    "    i=0\n",
    "    for chunk in file_word_freq:\n",
    "        cities_to_drop = list(set(list(chunk.columns))-set(ValidCities.index))\n",
    "        words_to_drop = list(set(list(chunk.index))-set(ValidWords))\n",
    "        chunk.drop(labels=cities_to_drop, axis=1, inplace=True)\n",
    "        chunk.drop(labels=words_to_drop, inplace=True)\n",
    "        if i==0:\n",
    "            filtredwordsfreq=chunk\n",
    "        else:\n",
    "            filtredwordsfreq=filtredwordsfreq.append(chunk)\n",
    "        print('Loop {}. Borrados = {}, tamaño actual del arreglo: {}'.format(i, len(words_to_drop), len(filtredwordsfreq)))\n",
    "        i+=1\n",
    "    totales=pandas.DataFrame(filtredwordsfreq.sum(),columns=['#TOTAL_WORDS#']).transpose()\n",
    "    filtredwordsfreq = pandas.concat([totales, filtredwordsfreq])    \n",
    "            \n",
    "    filtredwordsfreq.to_csv(destino, sep=\"\\t\",decimal=\",\",header=filtredwordsfreq.columns)\n",
    "        \n",
    "    print('Listo!!')   \n",
    "    \n",
    "    "
   ]
  },
  {
   "cell_type": "code",
   "execution_count": 7,
   "metadata": {
    "nbpresent": {
     "id": "e937578b-bf87-4207-9ffe-dd4cc5b1ae35"
    }
   },
   "outputs": [],
   "source": [
    "def relative_freq_file(file,destino):\n",
    "    file_word_freq = pandas.read_csv(\n",
    "        file, \n",
    "        encoding='utf-8', \n",
    "        index_col=0,\n",
    "        sep =\"\\t\",\n",
    "        decimal=\",\",\n",
    "        quotechar='\"'\n",
    "    )\n",
    "    frecuencias_relativas = file_word_freq.iloc[0:]/file_word_freq.iloc[0]\n",
    "    frecuencias_relativas.to_csv(destino, sep=\"\\t\",decimal=\",\",header=frecuencias_relativas.columns)\n"
   ]
  },
  {
   "cell_type": "code",
   "execution_count": 8,
   "metadata": {
    "nbpresent": {
     "id": "b9a2c30a-71c4-427d-95e8-f2a4583ee943"
    }
   },
   "outputs": [],
   "source": [
    "def rank_file(file,destino):\n",
    "    file_word_rank = pandas.read_csv(\n",
    "        file, \n",
    "        encoding='utf-8', \n",
    "        index_col=0,\n",
    "        skiprows=[1],\n",
    "        sep =\"\\t\",\n",
    "        decimal=\",\",\n",
    "        quotechar='\"'\n",
    "    )\n",
    "    file_word_rank = file_word_rank.rank(method='dense',ascending=False)\n",
    "    max_rank = file_word_rank.max(axis=0)\n",
    "    file_word_rank = pandas.concat([pandas.DataFrame(max_rank, columns=['#MAX_RANK#']).transpose(), file_word_rank])    \n",
    "    file_word_rank = file_word_rank.astype(int)\n",
    "    file_word_rank.to_csv(destino, sep=\"\\t\",decimal=\",\",header=file_word_rank.columns)"
   ]
  },
  {
   "cell_type": "code",
   "execution_count": 9,
   "metadata": {
    "nbpresent": {
     "id": "915c8194-9152-46b1-ad89-fdb8e037dd6b"
    }
   },
   "outputs": [],
   "source": [
    "def normaliced_rank_file(file,destino):\n",
    "    normaliced_word_rank = pandas.read_csv(\n",
    "        file, \n",
    "        encoding='utf-8', \n",
    "        index_col=0,\n",
    "        sep =\"\\t\",\n",
    "        decimal=\",\",\n",
    "        quotechar='\"'\n",
    "    )\n",
    "    normaliced_word_rank = (normaliced_word_rank.iloc[0:]/normaliced_word_rank.iloc[0])*100000000\n",
    "    normaliced_word_rank.to_csv(destino, sep=\"\\t\",decimal=\",\",header=normaliced_word_rank.columns)"
   ]
  },
  {
   "cell_type": "markdown",
   "metadata": {},
   "source": [
    "## Cálculos de HSIC"
   ]
  },
  {
   "cell_type": "code",
   "execution_count": 10,
   "metadata": {
    "nbpresent": {
     "id": "8220e0e5-9dd1-4040-90ee-c7b66e258185"
    }
   },
   "outputs": [],
   "source": [
    "origen = NOR_RANK_DES\n",
    "carpeta = '/src/static/ctc/'\n",
    "destino = \"CTC_HSIG_SOBRE_RANK_NORMALIZADO\"\n",
    "extencion = \".csv\"\n",
    "\n",
    "def escribir_cabezote_archivo(destino, fieldnames):\n",
    "    with open(destino, 'w') as csvfile:\n",
    "        writer = fieldnames.to_csv(csvfile,sep=\"\\t\",decimal=\",\",header=fieldnames.columns)\n",
    "        \n",
    "def escribir_datos_archivo(destino, values):\n",
    "    with open(destino, 'a') as csvfile:\n",
    "        writer = values.to_csv(csvfile,sep=\"\\t\",decimal=\",\",header=False)     \n"
   ]
  },
  {
   "cell_type": "code",
   "execution_count": 11,
   "metadata": {},
   "outputs": [],
   "source": [
    "def conditional_hsic_to_file(file, destino, desde, hasta):\n",
    "    destino= '/src/static/ctc/{}_{}a{}.csv'.format(destino,desde,hasta)\n",
    "    reader = pandas.read_csv(\n",
    "        file, \n",
    "        encoding='utf-8',\n",
    "        chunksize=1,\n",
    "        index_col=0,\n",
    "        skiprows=[1,*range(0,desde)],\n",
    "        sep =\"\\t\",\n",
    "        decimal=\",\",\n",
    "        quotechar='\"'\n",
    "    )\n",
    "    valid_count = 0\n",
    "    count=desde\n",
    "\n",
    "    for chunk  in reader:\n",
    "        if count <= hasta:    \n",
    "            start_time = time.time()\n",
    "            cho=np.log(chunk.transpose().sort_index().as_matrix())\n",
    "            hsic, pvalue=HSIC.HSIC_conditional_pval(GeoValidCities,cho, 0.0015, N_samp=2000, kernelX=\"Gaussian\", kernelY=\"Gaussian\")\n",
    "            if(hsic and pvalue<0.05):\n",
    "                valid_count+=1\n",
    "                if valid_count == 1:\n",
    "                    basic_header = pandas.DataFrame(columns=['HSIC','PValue'])\n",
    "                    basic_header.loc[chunk.index.values[0],'HSIC']=hsic\n",
    "                    basic_header.loc[chunk.index.values[0],'PValue']=pvalue\n",
    "                    escribir_cabezote_archivo(destino, basic_header)\n",
    "                    elapsed_time = int(time.time() - start_time)\n",
    "                    print ('\\rDuracion pros palabra:{}\\t procesados:{},validados:{}'.format(elapsed_time,count,valid_count),end='\\t\\t\\t\\t\\t\\t\\t\\t\\t\\r')\n",
    "                else:\n",
    "                    basic_header = pandas.DataFrame(columns=['HSIC','PValue'])\n",
    "                    basic_header.loc[chunk.index.values[0],'HSIC']=hsic\n",
    "                    basic_header.loc[chunk.index.values[0],'PValue']=pvalue\n",
    "                    escribir_datos_archivo(destino, basic_header)\n",
    "                    elapsed_time = int(time.time() - start_time)\n",
    "                    print ('\\rDuracion pros palabra:{}\\t procesados:{},validados:{}'.format(elapsed_time,count,valid_count),end='\\t\\t\\t\\t\\t\\t\\t\\t\\t\\r')\n",
    "            else:\n",
    "                elapsed_time = int(time.time() - start_time)\n",
    "                print ('\\rDuracion pros palabra:{}\\t procesados:{},validados:{}'.format(elapsed_time,count,valid_count),end='\\t\\t\\t\\t\\t\\t\\t\\t\\t\\r')\n",
    "            count+=1\n",
    "        else:\n",
    "            print('\\n \\n listo')\n",
    "            break  "
   ]
  },
  {
   "cell_type": "code",
   "execution_count": 12,
   "metadata": {},
   "outputs": [
    {
     "name": "stdout",
     "output_type": "stream",
     "text": [
      "Duracion pros palabra:34\t procesados:5999,validados:12\t\t\t\t\t\t\t\t\t\n",
      " \n",
      " listo\n"
     ]
    }
   ],
   "source": [
    "conditional_hsic_to_file(origen, destino, 4757, 5999)"
   ]
  },
  {
   "cell_type": "code",
   "execution_count": 13,
   "metadata": {},
   "outputs": [
    {
     "name": "stdout",
     "output_type": "stream",
     "text": [
      "Duracion pros palabra:31\t procesados:9999,validados:429\t\t\t\t\t\t\t\t\t\n",
      " \n",
      " listo\n"
     ]
    }
   ],
   "source": [
    "conditional_hsic_to_file(origen, destino, 9000, 9999)"
   ]
  },
  {
   "cell_type": "code",
   "execution_count": null,
   "metadata": {},
   "outputs": [],
   "source": []
  }
 ],
 "metadata": {
  "anaconda-cloud": {},
  "kernelspec": {
   "display_name": "Python [conda root]",
   "language": "python",
   "name": "conda-root-py"
  },
  "language_info": {
   "codemirror_mode": {
    "name": "ipython",
    "version": 3
   },
   "file_extension": ".py",
   "mimetype": "text/x-python",
   "name": "python",
   "nbconvert_exporter": "python",
   "pygments_lexer": "ipython3",
   "version": "3.5.2"
  },
  "latex_envs": {
   "LaTeX_envs_menu_present": true,
   "autocomplete": true,
   "bibliofile": "biblio.bib",
   "cite_by": "apalike",
   "current_citInitial": 1,
   "eqLabelWithNumbers": true,
   "eqNumInitial": 1,
   "hotkeys": {
    "equation": "Ctrl-E",
    "itemize": "Ctrl-I"
   },
   "labels_anchors": false,
   "latex_user_defs": false,
   "report_style_numbering": false,
   "user_envs_cfg": false
  },
  "nbpresent": {
   "slides": {
    "03f7ec1b-77f5-4ef9-bb8a-a4f65426520c": {
     "id": "03f7ec1b-77f5-4ef9-bb8a-a4f65426520c",
     "prev": "4894403a-e5d0-4250-9940-afaad4670a78",
     "regions": {
      "fcff767a-cdb9-4a77-8fb4-92a3d183642f": {
       "attrs": {
        "height": 0.8,
        "width": 0.8,
        "x": 0.1,
        "y": 0.1
       },
       "content": {
        "cell": "d541107b-edce-4a3b-bd25-3fc1b631d096",
        "part": "whole"
       },
       "id": "fcff767a-cdb9-4a77-8fb4-92a3d183642f"
      }
     }
    },
    "0418945e-2ff4-4fdc-800f-86c738a15daf": {
     "id": "0418945e-2ff4-4fdc-800f-86c738a15daf",
     "layout": "treemap",
     "prev": null,
     "regions": {
      "8c03e177-0c60-4a78-8719-bfc476bfec48": {
       "attrs": {
        "height": 1,
        "pad": 0.01,
        "treemap:weight": 1,
        "width": 1,
        "x": 0,
        "y": 0
       },
       "content": {
        "cell": "148a1103-9694-4013-8740-5f3f36a4d462",
        "part": "whole"
       },
       "id": "8c03e177-0c60-4a78-8719-bfc476bfec48"
      }
     }
    },
    "25242c23-0d5e-4b71-8774-077ed1a560ba": {
     "id": "25242c23-0d5e-4b71-8774-077ed1a560ba",
     "prev": "b144c868-602e-4655-a756-0153777d5681",
     "regions": {
      "66f28bec-fd4b-4feb-a365-4450a5541ef5": {
       "attrs": {
        "height": 0.8,
        "width": 0.8,
        "x": 0.1,
        "y": 0.1
       },
       "content": {
        "cell": "5bf02adc-30c3-4e67-9976-15f1101b9e4d",
        "part": "whole"
       },
       "id": "66f28bec-fd4b-4feb-a365-4450a5541ef5"
      }
     }
    },
    "260c9901-fe25-4e9e-8931-38788cd7f6f5": {
     "id": "260c9901-fe25-4e9e-8931-38788cd7f6f5",
     "prev": "e74b9e72-2b1a-4eeb-8b21-c8f46b0fcae2",
     "regions": {
      "6f110132-14e4-4cec-9e26-f1aedf78c46f": {
       "attrs": {
        "height": 0.8,
        "width": 0.8,
        "x": 0.1,
        "y": 0.1
       },
       "content": {
        "cell": "c33604fa-c9ec-4ffe-acb5-ba8a6c740f63",
        "part": "whole"
       },
       "id": "6f110132-14e4-4cec-9e26-f1aedf78c46f"
      }
     }
    },
    "4894403a-e5d0-4250-9940-afaad4670a78": {
     "id": "4894403a-e5d0-4250-9940-afaad4670a78",
     "prev": "260c9901-fe25-4e9e-8931-38788cd7f6f5",
     "regions": {
      "76f23eba-27ca-4345-9cfc-918a13ec89cf": {
       "attrs": {
        "height": 0.8,
        "width": 0.8,
        "x": 0.1,
        "y": 0.1
       },
       "content": {
        "cell": "4f500f28-7484-474b-8a7b-552ab4b0db2f",
        "part": "whole"
       },
       "id": "76f23eba-27ca-4345-9cfc-918a13ec89cf"
      }
     }
    },
    "4a8fe800-4081-4cae-9a10-1b6d83910e48": {
     "id": "4a8fe800-4081-4cae-9a10-1b6d83910e48",
     "prev": "8a4c5ff7-d5e0-4d42-ae60-78697b0ced19",
     "regions": {
      "1fd24b7d-8249-4d01-a165-c92043a8a358": {
       "attrs": {
        "height": 0.8,
        "width": 0.8,
        "x": 0.1,
        "y": 0.1
       },
       "content": {
        "cell": "20510e08-856d-410a-91f2-94ceddd7c812",
        "part": "whole"
       },
       "id": "1fd24b7d-8249-4d01-a165-c92043a8a358"
      }
     }
    },
    "5b6456ee-4dbe-430e-956f-a7c0025eb464": {
     "id": "5b6456ee-4dbe-430e-956f-a7c0025eb464",
     "prev": "60779487-05c8-4a9d-80b1-3f9dc2632a6a",
     "regions": {
      "40624074-1a2c-4658-9005-2d91b4aac509": {
       "attrs": {
        "height": 0.8,
        "width": 0.8,
        "x": 0.1,
        "y": 0.1
       },
       "content": {
        "cell": "b9a2c30a-71c4-427d-95e8-f2a4583ee943",
        "part": "whole"
       },
       "id": "40624074-1a2c-4658-9005-2d91b4aac509"
      }
     }
    },
    "60779487-05c8-4a9d-80b1-3f9dc2632a6a": {
     "id": "60779487-05c8-4a9d-80b1-3f9dc2632a6a",
     "prev": "6d73fd6e-350c-4aef-a132-da5b5d4d03c5",
     "regions": {
      "53e6e20d-4189-4d08-9ec2-bd802f93dcc0": {
       "attrs": {
        "height": 0.8,
        "width": 0.8,
        "x": 0.1,
        "y": 0.1
       },
       "content": {
        "cell": "e937578b-bf87-4207-9ffe-dd4cc5b1ae35",
        "part": "whole"
       },
       "id": "53e6e20d-4189-4d08-9ec2-bd802f93dcc0"
      }
     }
    },
    "6d73fd6e-350c-4aef-a132-da5b5d4d03c5": {
     "id": "6d73fd6e-350c-4aef-a132-da5b5d4d03c5",
     "prev": "03f7ec1b-77f5-4ef9-bb8a-a4f65426520c",
     "regions": {
      "fe6d8c11-6bb3-4e49-b5f9-fc0a106fb779": {
       "attrs": {
        "height": 0.8,
        "width": 0.8,
        "x": 0.1,
        "y": 0.1
       },
       "content": {
        "cell": "214369fe-6540-4a50-bb84-dc595214ace6",
        "part": "whole"
       },
       "id": "fe6d8c11-6bb3-4e49-b5f9-fc0a106fb779"
      }
     }
    },
    "8a4c5ff7-d5e0-4d42-ae60-78697b0ced19": {
     "id": "8a4c5ff7-d5e0-4d42-ae60-78697b0ced19",
     "prev": "0418945e-2ff4-4fdc-800f-86c738a15daf",
     "regions": {
      "956861f5-5e6c-4134-bb7f-91da4891b859": {
       "attrs": {
        "height": 0.8,
        "width": 0.8,
        "x": 0.1,
        "y": 0.1
       },
       "content": {
        "cell": "1b7afed7-8c22-4fdd-a092-3764d25fa864",
        "part": "whole"
       },
       "id": "956861f5-5e6c-4134-bb7f-91da4891b859"
      }
     }
    },
    "b144c868-602e-4655-a756-0153777d5681": {
     "id": "b144c868-602e-4655-a756-0153777d5681",
     "prev": "5b6456ee-4dbe-430e-956f-a7c0025eb464",
     "regions": {
      "714c7bf8-ed59-4d54-8980-52ce8afcec15": {
       "attrs": {
        "height": 0.8,
        "width": 0.8,
        "x": 0.1,
        "y": 0.1
       },
       "content": {
        "cell": "915c8194-9152-46b1-ad89-fdb8e037dd6b",
        "part": "whole"
       },
       "id": "714c7bf8-ed59-4d54-8980-52ce8afcec15"
      }
     }
    },
    "e74b9e72-2b1a-4eeb-8b21-c8f46b0fcae2": {
     "id": "e74b9e72-2b1a-4eeb-8b21-c8f46b0fcae2",
     "prev": "4a8fe800-4081-4cae-9a10-1b6d83910e48",
     "regions": {
      "6aecb11c-a011-47dd-b236-2c8432c36a10": {
       "attrs": {
        "height": 0.8,
        "width": 0.8,
        "x": 0.1,
        "y": 0.1
       },
       "content": {
        "cell": "2557d9b7-9ea8-4050-96ce-fb2e4ac04c09",
        "part": "whole"
       },
       "id": "6aecb11c-a011-47dd-b236-2c8432c36a10"
      }
     }
    },
    "ee64b1d7-978f-4b42-b972-cf93fbd9679f": {
     "id": "ee64b1d7-978f-4b42-b972-cf93fbd9679f",
     "prev": "25242c23-0d5e-4b71-8774-077ed1a560ba",
     "regions": {
      "4b7b30f8-7418-42d9-91a8-da6ec5d39979": {
       "attrs": {
        "height": 0.8,
        "width": 0.8,
        "x": 0.1,
        "y": 0.1
       },
       "content": {
        "cell": "8220e0e5-9dd1-4040-90ee-c7b66e258185",
        "part": "whole"
       },
       "id": "4b7b30f8-7418-42d9-91a8-da6ec5d39979"
      }
     }
    }
   },
   "themes": {
    "default": "7d2287d9-8bdf-449b-afc7-bad3b1ca7c58",
    "theme": {
     "7d2287d9-8bdf-449b-afc7-bad3b1ca7c58": {
      "backgrounds": {
       "backgroundColor": {
        "background-color": "backgroundColor",
        "id": "backgroundColor"
       }
      },
      "id": "7d2287d9-8bdf-449b-afc7-bad3b1ca7c58",
      "palette": {
       "backgroundColor": {
        "id": "backgroundColor",
        "rgb": [
         34,
         34,
         34
        ]
       },
       "headingColor": {
        "id": "headingColor",
        "rgb": [
         238,
         238,
         238
        ]
       },
       "linkColor": {
        "id": "linkColor",
        "rgb": [
         170,
         34,
         51
        ]
       },
       "mainColor": {
        "id": "mainColor",
        "rgb": [
         238,
         238,
         238
        ]
       }
      },
      "rules": {
       "a": {
        "color": "linkColor"
       },
       "h1": {
        "color": "headingColor",
        "font-family": "Ubuntu",
        "font-size": 7
       },
       "h2": {
        "color": "headingColor",
        "font-family": "Ubuntu",
        "font-size": 5
       },
       "h3": {
        "color": "headingColor",
        "font-family": "Ubuntu",
        "font-size": 3.75
       },
       "h4": {
        "color": "headingColor",
        "font-family": "Ubuntu",
        "font-size": 3
       },
       "h5": {
        "color": "headingColor",
        "font-family": "Ubuntu"
       },
       "h6": {
        "color": "headingColor",
        "font-family": "Ubuntu"
       },
       "h7": {
        "color": "headingColor",
        "font-family": "Ubuntu"
       },
       "li": {
        "color": "mainColor",
        "font-family": "Ubuntu",
        "font-size": 5
       },
       "p": {
        "color": "mainColor",
        "font-family": "Ubuntu",
        "font-size": 5
       }
      },
      "text-base": {
       "color": "mainColor",
       "font-family": "Ubuntu",
       "font-size": 5
      }
     }
    }
   }
  },
  "toc": {
   "nav_menu": {},
   "number_sections": true,
   "sideBar": true,
   "skip_h1_title": false,
   "toc_cell": false,
   "toc_position": {},
   "toc_section_display": "block",
   "toc_window_display": false
  },
  "varInspector": {
   "cols": {
    "lenName": 16,
    "lenType": 16,
    "lenVar": 40
   },
   "kernels_config": {
    "python": {
     "delete_cmd_postfix": "",
     "delete_cmd_prefix": "del ",
     "library": "var_list.py",
     "varRefreshCmd": "print(var_dic_list())"
    },
    "r": {
     "delete_cmd_postfix": ") ",
     "delete_cmd_prefix": "rm(",
     "library": "var_list.r",
     "varRefreshCmd": "cat(var_dic_list()) "
    }
   },
   "types_to_exclude": [
    "module",
    "function",
    "builtin_function_or_method",
    "instance",
    "_Feature"
   ],
   "window_display": false
  }
 },
 "nbformat": 4,
 "nbformat_minor": 1
}
