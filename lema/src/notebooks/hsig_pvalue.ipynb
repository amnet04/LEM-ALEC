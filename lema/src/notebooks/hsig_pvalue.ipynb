{
 "cells": [
  {
   "cell_type": "code",
   "execution_count": 1,
   "metadata": {
    "ExecuteTime": {
     "end_time": "2018-01-25T10:15:57.519412Z",
     "start_time": "2018-01-25T10:15:56.959096Z"
    }
   },
   "outputs": [],
   "source": [
    "import sys\n",
    "# Add the ptdraft folder path to the sys.path list\n",
    "sys.path.append('/src')\n",
    "\n",
    "import numpy as np\n",
    "import pandas as pd\n",
    "from HSIC.HSIC import HSIC_pval\n",
    "import time"
   ]
  },
  {
   "cell_type": "code",
   "execution_count": 2,
   "metadata": {
    "ExecuteTime": {
     "end_time": "2018-01-25T10:15:57.571212Z",
     "start_time": "2018-01-25T10:15:57.567977Z"
    },
    "run_control": {
     "marked": true
    }
   },
   "outputs": [],
   "source": [
    "WORDS_ORIGIN = \"/src/data/procesados/clean/TWITTER_COLOMBIA_RELATIVE_FREQ_CLEAN.csv\"\n",
    "CITIES_ORIGIN = \"/src/data/procesados/geo/filter_cities_coordinates.csv\"\n",
    "HSIC_ORIGIN = \"/src/data/procesados/HSIC/20MIL/HSIC_SIN_PVALUE_REL_FREQ_NOLIN_20MIL.csv\"\n",
    "DESTINO = \"/src/data/procesados/HSIC/HSIC_PVALUE.csv\""
   ]
  },
  {
   "cell_type": "code",
   "execution_count": 3,
   "metadata": {
    "ExecuteTime": {
     "end_time": "2018-01-25T10:15:57.903330Z",
     "start_time": "2018-01-25T10:15:57.894007Z"
    }
   },
   "outputs": [],
   "source": [
    "def escribir_cabezote_archivo(destino, fieldnames):\n",
    "    with open(destino, 'w') as csvfile:\n",
    "        writer = fieldnames.to_csv(csvfile,sep=\"\\t\",header=fieldnames.columns,decimal=\",\")\n",
    "        \n",
    "def escribir_datos_archivo(destino, values):\n",
    "    with open(destino, 'a') as csvfile:\n",
    "        writer = values.to_csv(csvfile,sep=\"\\t\",header=False,decimal=\",\") "
   ]
  },
  {
   "cell_type": "code",
   "execution_count": 4,
   "metadata": {
    "ExecuteTime": {
     "end_time": "2018-01-25T10:15:58.510740Z",
     "start_time": "2018-01-25T10:15:58.455202Z"
    },
    "code_folding": [
     3,
     13,
     28
    ],
    "run_control": {
     "marked": false
    }
   },
   "outputs": [],
   "source": [
    "def hsicpvalue_to_file(hsic_origin, words_origin, cities_origin, destino, desde, hasta):\n",
    "    \n",
    "    # Cargar filtrados hsic\n",
    "    hsic_file_reader = pd.read_csv(\n",
    "        hsic_origin, \n",
    "        encoding='utf-8',\n",
    "        index_col=0,\n",
    "        sep =\"\\t\",\n",
    "        decimal=\",\",\n",
    "        quotechar='\"'\n",
    "    )\n",
    "    \n",
    "    # Cargar palabras válidas\n",
    "    words_file_reader = pd.read_csv(\n",
    "        words_origin, \n",
    "        encoding='utf-8',\n",
    "        skiprows = [1],\n",
    "        index_col=0,\n",
    "        sep =\"\\t\",\n",
    "        decimal=\",\",\n",
    "        quotechar='\"'\n",
    "    )\n",
    "    \n",
    "    valid_words = words_file_reader.index.intersection(hsic_file_reader.index)\n",
    "    valid_words = words_file_reader.loc[valid_words]\n",
    "\n",
    "    \n",
    "    # Cargar ciudades válidas\n",
    "    cities_coordinates = pd.read_csv(\n",
    "        cities_origin,\n",
    "        encoding='utf-8',\n",
    "        sep =\"\\t\",\n",
    "        decimal=\",\",\n",
    "        quotechar='\"',\n",
    "        usecols=['ciudad', 'Latitud','Longitud'],\n",
    "        index_col =0\n",
    "    ).transpose()\n",
    "      \n",
    "    \n",
    "    count=desde\n",
    "\n",
    "    for count  in range(desde,hasta+1):\n",
    "        start_time = time.time()\n",
    "        word_data =  pd.DataFrame(valid_words.iloc[count]).transpose().sort_index()\n",
    "        word = word_data.index[0]\n",
    "        data = pd.concat([cities_coordinates,word_data]).transpose()\n",
    "        word_vector = data.iloc[0:, 2:3].as_matrix()\n",
    "        cities_vector = data.iloc[0:, 0:2].as_matrix()\n",
    "        hsic, pvalue=HSIC_pval(cities_vector,word_vector,N_samp=500, kernelX=\"Gaussian\", kernelY=\"Gaussian\")\n",
    "        basic_header = pd.DataFrame({\n",
    "            'HSIC':pd.Series([], dtype='float'),\n",
    "            'PValue':pd.Series([], dtype='float')\n",
    "        })\n",
    "        basic_header.loc['{}'.format(word),'HSIC']=hsic\n",
    "        basic_header.loc['{}'.format(word),'PValue']=pvalue\n",
    "        time_left = (time.time() - start_time)*(hasta+1-count)\n",
    "        m, s = divmod(time_left, 60)\n",
    "        h, m = divmod(m, 60)\n",
    "        s=int(s)\n",
    "        print ('\\rCont:{}\\t Word:{}\\t\\t PV:{} TimeLeft: {}:{}:{}\\t '.format(count, word, pvalue, h, m, s),end='\\t\\t\\r')\n",
    "        if count == desde:\n",
    "            escribir_cabezote_archivo(destino, basic_header)\n",
    "        elif count <= hasta:\n",
    "            escribir_datos_archivo(destino, basic_header)\n",
    "        else:\n",
    "            print(\"\\rFrito el pollo\")\n",
    "        \n",
    "        count = count + 1\n",
    "         "
   ]
  },
  {
   "cell_type": "code",
   "execution_count": 5,
   "metadata": {
    "ExecuteTime": {
     "end_time": "2018-01-27T12:33:48.663697Z",
     "start_time": "2018-01-25T10:16:09.181916Z"
    }
   },
   "outputs": [
    {
     "name": "stdout",
     "output_type": "stream",
     "text": [
      "Cont:19999\t Word:dealer\t\t PV:0.003992015968063872 TimeLeft: 0.0:0.0:28\t \t\t \t\t\t\t\t\t\t\t \t\t\t\t\r"
     ]
    },
    {
     "ename": "IndexError",
     "evalue": "single positional indexer is out-of-bounds",
     "output_type": "error",
     "traceback": [
      "\u001b[0;31m---------------------------------------------------------------------------\u001b[0m",
      "\u001b[0;31mIndexError\u001b[0m                                Traceback (most recent call last)",
      "\u001b[0;32m<ipython-input-5-9a6fcac3f8f7>\u001b[0m in \u001b[0;36m<module>\u001b[0;34m()\u001b[0m\n\u001b[0;32m----> 1\u001b[0;31m \u001b[0mhsicpvalue_to_file\u001b[0m\u001b[0;34m(\u001b[0m\u001b[0mHSIC_ORIGIN\u001b[0m\u001b[0;34m,\u001b[0m \u001b[0mWORDS_ORIGIN\u001b[0m\u001b[0;34m,\u001b[0m \u001b[0mCITIES_ORIGIN\u001b[0m\u001b[0;34m,\u001b[0m \u001b[0mDESTINO\u001b[0m\u001b[0;34m,\u001b[0m \u001b[0;36m0\u001b[0m\u001b[0;34m,\u001b[0m \u001b[0;36m20000\u001b[0m\u001b[0;34m)\u001b[0m\u001b[0;34m\u001b[0m\u001b[0m\n\u001b[0m",
      "\u001b[0;32m<ipython-input-4-f644dd076561>\u001b[0m in \u001b[0;36mhsicpvalue_to_file\u001b[0;34m(hsic_origin, words_origin, cities_origin, destino, desde, hasta)\u001b[0m\n\u001b[1;32m     42\u001b[0m     \u001b[0;32mfor\u001b[0m \u001b[0mcount\u001b[0m  \u001b[0;32min\u001b[0m \u001b[0mrange\u001b[0m\u001b[0;34m(\u001b[0m\u001b[0mdesde\u001b[0m\u001b[0;34m,\u001b[0m\u001b[0mhasta\u001b[0m\u001b[0;34m+\u001b[0m\u001b[0;36m1\u001b[0m\u001b[0;34m)\u001b[0m\u001b[0;34m:\u001b[0m\u001b[0;34m\u001b[0m\u001b[0m\n\u001b[1;32m     43\u001b[0m         \u001b[0mstart_time\u001b[0m \u001b[0;34m=\u001b[0m \u001b[0mtime\u001b[0m\u001b[0;34m.\u001b[0m\u001b[0mtime\u001b[0m\u001b[0;34m(\u001b[0m\u001b[0;34m)\u001b[0m\u001b[0;34m\u001b[0m\u001b[0m\n\u001b[0;32m---> 44\u001b[0;31m         \u001b[0mword_data\u001b[0m \u001b[0;34m=\u001b[0m  \u001b[0mpd\u001b[0m\u001b[0;34m.\u001b[0m\u001b[0mDataFrame\u001b[0m\u001b[0;34m(\u001b[0m\u001b[0mvalid_words\u001b[0m\u001b[0;34m.\u001b[0m\u001b[0miloc\u001b[0m\u001b[0;34m[\u001b[0m\u001b[0mcount\u001b[0m\u001b[0;34m]\u001b[0m\u001b[0;34m)\u001b[0m\u001b[0;34m.\u001b[0m\u001b[0mtranspose\u001b[0m\u001b[0;34m(\u001b[0m\u001b[0;34m)\u001b[0m\u001b[0;34m.\u001b[0m\u001b[0msort_index\u001b[0m\u001b[0;34m(\u001b[0m\u001b[0;34m)\u001b[0m\u001b[0;34m\u001b[0m\u001b[0m\n\u001b[0m\u001b[1;32m     45\u001b[0m         \u001b[0mword\u001b[0m \u001b[0;34m=\u001b[0m \u001b[0mword_data\u001b[0m\u001b[0;34m.\u001b[0m\u001b[0mindex\u001b[0m\u001b[0;34m[\u001b[0m\u001b[0;36m0\u001b[0m\u001b[0;34m]\u001b[0m\u001b[0;34m\u001b[0m\u001b[0m\n\u001b[1;32m     46\u001b[0m         \u001b[0mdata\u001b[0m \u001b[0;34m=\u001b[0m \u001b[0mpd\u001b[0m\u001b[0;34m.\u001b[0m\u001b[0mconcat\u001b[0m\u001b[0;34m(\u001b[0m\u001b[0;34m[\u001b[0m\u001b[0mcities_coordinates\u001b[0m\u001b[0;34m,\u001b[0m\u001b[0mword_data\u001b[0m\u001b[0;34m]\u001b[0m\u001b[0;34m)\u001b[0m\u001b[0;34m.\u001b[0m\u001b[0mtranspose\u001b[0m\u001b[0;34m(\u001b[0m\u001b[0;34m)\u001b[0m\u001b[0;34m\u001b[0m\u001b[0m\n",
      "\u001b[0;32m/opt/conda/lib/python3.5/site-packages/pandas/core/indexing.py\u001b[0m in \u001b[0;36m__getitem__\u001b[0;34m(self, key)\u001b[0m\n\u001b[1;32m   1294\u001b[0m             \u001b[0;32mreturn\u001b[0m \u001b[0mself\u001b[0m\u001b[0;34m.\u001b[0m\u001b[0m_getitem_tuple\u001b[0m\u001b[0;34m(\u001b[0m\u001b[0mkey\u001b[0m\u001b[0;34m)\u001b[0m\u001b[0;34m\u001b[0m\u001b[0m\n\u001b[1;32m   1295\u001b[0m         \u001b[0;32melse\u001b[0m\u001b[0;34m:\u001b[0m\u001b[0;34m\u001b[0m\u001b[0m\n\u001b[0;32m-> 1296\u001b[0;31m             \u001b[0;32mreturn\u001b[0m \u001b[0mself\u001b[0m\u001b[0;34m.\u001b[0m\u001b[0m_getitem_axis\u001b[0m\u001b[0;34m(\u001b[0m\u001b[0mkey\u001b[0m\u001b[0;34m,\u001b[0m \u001b[0maxis\u001b[0m\u001b[0;34m=\u001b[0m\u001b[0;36m0\u001b[0m\u001b[0;34m)\u001b[0m\u001b[0;34m\u001b[0m\u001b[0m\n\u001b[0m\u001b[1;32m   1297\u001b[0m \u001b[0;34m\u001b[0m\u001b[0m\n\u001b[1;32m   1298\u001b[0m     \u001b[0;32mdef\u001b[0m \u001b[0m_getitem_axis\u001b[0m\u001b[0;34m(\u001b[0m\u001b[0mself\u001b[0m\u001b[0;34m,\u001b[0m \u001b[0mkey\u001b[0m\u001b[0;34m,\u001b[0m \u001b[0maxis\u001b[0m\u001b[0;34m=\u001b[0m\u001b[0;36m0\u001b[0m\u001b[0;34m)\u001b[0m\u001b[0;34m:\u001b[0m\u001b[0;34m\u001b[0m\u001b[0m\n",
      "\u001b[0;32m/opt/conda/lib/python3.5/site-packages/pandas/core/indexing.py\u001b[0m in \u001b[0;36m_getitem_axis\u001b[0;34m(self, key, axis)\u001b[0m\n\u001b[1;32m   1610\u001b[0m \u001b[0;34m\u001b[0m\u001b[0m\n\u001b[1;32m   1611\u001b[0m                 \u001b[0;31m# validate the location\u001b[0m\u001b[0;34m\u001b[0m\u001b[0;34m\u001b[0m\u001b[0m\n\u001b[0;32m-> 1612\u001b[0;31m                 \u001b[0mself\u001b[0m\u001b[0;34m.\u001b[0m\u001b[0m_is_valid_integer\u001b[0m\u001b[0;34m(\u001b[0m\u001b[0mkey\u001b[0m\u001b[0;34m,\u001b[0m \u001b[0maxis\u001b[0m\u001b[0;34m)\u001b[0m\u001b[0;34m\u001b[0m\u001b[0m\n\u001b[0m\u001b[1;32m   1613\u001b[0m \u001b[0;34m\u001b[0m\u001b[0m\n\u001b[1;32m   1614\u001b[0m             \u001b[0;32mreturn\u001b[0m \u001b[0mself\u001b[0m\u001b[0;34m.\u001b[0m\u001b[0m_get_loc\u001b[0m\u001b[0;34m(\u001b[0m\u001b[0mkey\u001b[0m\u001b[0;34m,\u001b[0m \u001b[0maxis\u001b[0m\u001b[0;34m=\u001b[0m\u001b[0maxis\u001b[0m\u001b[0;34m)\u001b[0m\u001b[0;34m\u001b[0m\u001b[0m\n",
      "\u001b[0;32m/opt/conda/lib/python3.5/site-packages/pandas/core/indexing.py\u001b[0m in \u001b[0;36m_is_valid_integer\u001b[0;34m(self, key, axis)\u001b[0m\n\u001b[1;32m   1524\u001b[0m         \u001b[0ml\u001b[0m \u001b[0;34m=\u001b[0m \u001b[0mlen\u001b[0m\u001b[0;34m(\u001b[0m\u001b[0max\u001b[0m\u001b[0;34m)\u001b[0m\u001b[0;34m\u001b[0m\u001b[0m\n\u001b[1;32m   1525\u001b[0m         \u001b[0;32mif\u001b[0m \u001b[0mkey\u001b[0m \u001b[0;34m>=\u001b[0m \u001b[0ml\u001b[0m \u001b[0;32mor\u001b[0m \u001b[0mkey\u001b[0m \u001b[0;34m<\u001b[0m \u001b[0;34m-\u001b[0m\u001b[0ml\u001b[0m\u001b[0;34m:\u001b[0m\u001b[0;34m\u001b[0m\u001b[0m\n\u001b[0;32m-> 1526\u001b[0;31m             \u001b[0;32mraise\u001b[0m \u001b[0mIndexError\u001b[0m\u001b[0;34m(\u001b[0m\u001b[0;34m\"single positional indexer is out-of-bounds\"\u001b[0m\u001b[0;34m)\u001b[0m\u001b[0;34m\u001b[0m\u001b[0m\n\u001b[0m\u001b[1;32m   1527\u001b[0m         \u001b[0;32mreturn\u001b[0m \u001b[0;32mTrue\u001b[0m\u001b[0;34m\u001b[0m\u001b[0m\n\u001b[1;32m   1528\u001b[0m \u001b[0;34m\u001b[0m\u001b[0m\n",
      "\u001b[0;31mIndexError\u001b[0m: single positional indexer is out-of-bounds"
     ]
    }
   ],
   "source": [
    "hsicpvalue_to_file(HSIC_ORIGIN, WORDS_ORIGIN, CITIES_ORIGIN, DESTINO, 0, 20000)\n"
   ]
  },
  {
   "cell_type": "code",
   "execution_count": null,
   "metadata": {},
   "outputs": [],
   "source": []
  },
  {
   "cell_type": "code",
   "execution_count": null,
   "metadata": {},
   "outputs": [],
   "source": []
  }
 ],
 "metadata": {
  "anaconda-cloud": {},
  "kernelspec": {
   "display_name": "Python [conda root]",
   "language": "python",
   "name": "conda-root-py"
  },
  "language_info": {
   "codemirror_mode": {
    "name": "ipython",
    "version": 3
   },
   "file_extension": ".py",
   "mimetype": "text/x-python",
   "name": "python",
   "nbconvert_exporter": "python",
   "pygments_lexer": "ipython3",
   "version": "3.5.2"
  },
  "latex_envs": {
   "LaTeX_envs_menu_present": true,
   "autocomplete": true,
   "bibliofile": "biblio.bib",
   "cite_by": "apalike",
   "current_citInitial": 1,
   "eqLabelWithNumbers": true,
   "eqNumInitial": 1,
   "hotkeys": {
    "equation": "Ctrl-E",
    "itemize": "Ctrl-I"
   },
   "labels_anchors": false,
   "latex_user_defs": false,
   "report_style_numbering": false,
   "user_envs_cfg": false
  },
  "toc": {
   "nav_menu": {},
   "number_sections": true,
   "sideBar": true,
   "skip_h1_title": false,
   "toc_cell": false,
   "toc_position": {},
   "toc_section_display": "block",
   "toc_window_display": false
  },
  "varInspector": {
   "cols": {
    "lenName": 16,
    "lenType": 16,
    "lenVar": 40
   },
   "kernels_config": {
    "python": {
     "delete_cmd_postfix": "",
     "delete_cmd_prefix": "del ",
     "library": "var_list.py",
     "varRefreshCmd": "print(var_dic_list())"
    },
    "r": {
     "delete_cmd_postfix": ") ",
     "delete_cmd_prefix": "rm(",
     "library": "var_list.r",
     "varRefreshCmd": "cat(var_dic_list()) "
    }
   },
   "types_to_exclude": [
    "module",
    "function",
    "builtin_function_or_method",
    "instance",
    "_Feature"
   ],
   "window_display": false
  }
 },
 "nbformat": 4,
 "nbformat_minor": 2
}
